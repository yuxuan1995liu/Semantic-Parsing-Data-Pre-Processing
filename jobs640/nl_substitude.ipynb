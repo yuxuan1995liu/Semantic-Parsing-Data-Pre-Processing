{
 "cells": [
  {
   "cell_type": "code",
   "execution_count": 1,
   "metadata": {},
   "outputs": [],
   "source": [
    "#code to nl substitite"
   ]
  },
  {
   "cell_type": "code",
   "execution_count": 759,
   "metadata": {},
   "outputs": [],
   "source": [
    "reference_data_path1 = './jobs_reference/job_train.txt'\n",
    "reference_data_path2 = './jobs_reference/job_test.txt'\n",
    "output_token = './jobs_reference/token_list.txt'\n",
    "ori_test_data = './jobs_final_data/jobs640_test.txt'\n",
    "ori_train_data = './jobs_final_data/jobs640_train.txt'\n",
    "output_train_data= './jobs_final_data/changeentity_train.txt'\n",
    "output_test_data= './jobs_final_data/changeentity_test.txt'"
   ]
  },
  {
   "cell_type": "code",
   "execution_count": 760,
   "metadata": {},
   "outputs": [],
   "source": [
    "import re"
   ]
  },
  {
   "cell_type": "code",
   "execution_count": 822,
   "metadata": {},
   "outputs": [
    {
     "name": "stdout",
     "output_type": "stream",
     "text": [
      "['all\\tjob ( ANS )', 'everyth\\tjob ( ANS )', 'what all there\\tjob ( ANS )', 'all of it\\tjob ( ANS )', 'show me everyth\\tjob ( ANS )', 'list job use languageid0\\tjob ( ANS ) , language ( ANS , languageid0 )', 'show job use languageid0\\tjob ( ANS ) , language ( ANS , languageid0 )', 'list job on platformid0\\tjob ( ANS ) , platform ( ANS , platformid0 )', 'list job requir degid0\\tjob ( ANS ) , req_deg ( ANS , degid0 )', 'show job requir degid0\\tjob ( ANS ) , req_deg ( ANS , degid0 )', 'show job in locid0\\tjob ( ANS ) , loc ( ANS , locid0 )', 'show job in languageid0\\tjob ( ANS ) , language ( ANS , languageid0 )', 'all the job pleas\\tjob ( ANS )', 'list job in locid0\\tjob ( ANS ) , loc ( ANS , locid0 )', 'list job in languageid0\\tjob ( ANS ) , language ( ANS , languageid0 )', 'show job requir degid0\\tjob ( ANS ) , req_deg ( ANS , degid0 )', 'show job use languageid0\\tjob ( ANS ) , language ( ANS , languageid0 )', 'list job in locid0\\tjob ( ANS ) , loc ( ANS , locid0 )', 'list job requir degid0\\tjob ( ANS ) , req_deg ( ANS , degid0 )', 'list job use languageid0\\tjob ( ANS ) , language ( ANS , languageid0 )', 'what job pay num_salary\\tjob ( ANS ) , salary_greater_than ( ANS , num_salary , year )', 'what job are there\\tjob ( ANS )', 'list job in areaid0\\tjob ( ANS ) , area ( ANS , areaid0 )', 'show job on platformid0\\tjob ( ANS ) , platform ( ANS , platformid0 )', 'list job in areaid0\\tjob ( ANS ) , area ( ANS , areaid0 )', 'show job use languageid0\\tjob ( ANS ) , language ( ANS , languageid0 )', 'list the job in languageid0\\tjob ( ANS ) , language ( ANS , languageid0 )', 'give me job in locid0\\tjob ( ANS ) , loc ( ANS , locid0 )', 'give me job use languageid0\\tjob ( ANS ) , language ( ANS , languageid0 )', 'ani job avail use areaid0\\tjob ( ANS ) , area ( ANS , areaid0 )', 'list the job in languageid0\\tjob ( ANS ) , language ( ANS , languageid0 )', 'give me job in locid0\\tjob ( ANS ) , loc ( ANS , locid0 )', 'show the job in languageid0\\tjob ( ANS ) , language ( ANS , languageid0 )', 'what areaid0 job are there\\tjob ( ANS ) , area ( ANS , areaid0 )', 'show the job in locid0\\tjob ( ANS ) , loc ( ANS , locid0 )', 'show the job in areaid0\\tjob ( ANS ) , area ( ANS , areaid0 )', 'show me what need experi\\tjob ( ANS ) , req_exp ( ANS )', 'who give num_salary for languageid0\\tjob ( ANS ) , salary_greater_than ( ANS , num_salary , year ) , language ( ANS , languageid0 )', 'list the job use languageid0\\tjob ( ANS ) , language ( ANS , languageid0 )', 'show the job on platformid0\\tjob ( ANS ) , platform ( ANS , platformid0 )', 'show the job in locid0\\tjob ( ANS ) , loc ( ANS , locid0 )', 'are there ani platformid0 job\\tjob ( ANS ) , platform ( ANS , platformid0 )', 'list the job requir degid0\\tjob ( ANS ) , req_deg ( ANS , degid0 )', 'show the job use languageid0\\tjob ( ANS ) , language ( ANS , languageid0 )', 'tell me job in areaid0\\tjob ( ANS ) , area ( ANS , areaid0 )', 'tell me job use languageid0\\tjob ( ANS ) , language ( ANS , languageid0 )', 'list the job on platformid0\\tjob ( ANS ) , platform ( ANS , platformid0 )', 'show me job in locid0\\tjob ( ANS ) , loc ( ANS , locid0 )', 'show the job requir degid0\\tjob ( ANS ) , req_deg ( ANS , degid0 )', 'what are all the job\\tjob ( ANS )', 'give me job in languageid0\\tjob ( ANS ) , language ( ANS , languageid0 )', 'ani job avail use areaid0\\tjob ( ANS ) , area ( ANS , areaid0 )', 'id like to see everyth\\tjob ( ANS )', 'show the job on platformid0\\tjob ( ANS ) , platform ( ANS , platformid0 )', 'show the job on platformid0\\tjob ( ANS ) , platform ( ANS , platformid0 )', 'tell me job use languageid0\\tjob ( ANS ) , language ( ANS , languageid0 )', 'list the job in areaid0\\tjob ( ANS ) , area ( ANS , areaid0 )', 'give me job requir degid0\\tjob ( ANS ) , req_deg ( ANS , degid0 )', 'what job requir a degid0\\tjob ( ANS ) , req_deg ( ANS , degid0 )', 'list the job use languageid0\\tjob ( ANS ) , language ( ANS , languageid0 )', 'list the job use languageid0\\tjob ( ANS ) , language ( ANS , languageid0 )', 'show the job in locid0\\tjob ( ANS ) , loc ( ANS , locid0 )', 'show the job requir degid0\\tjob ( ANS ) , req_deg ( ANS , degid0 )', 'tell me job use languageid0\\tjob ( ANS ) , language ( ANS , languageid0 )', 'give me job requir degid0\\tjob ( ANS ) , req_deg ( ANS , degid0 )', 'are there ani job requir degid0\\tjob ( ANS ) , req_deg ( ANS , degid0 )', 'what job are there in locid0\\tjob ( ANS ) , loc ( ANS , locid0 )', 'are there ani job in locid0\\tjob ( ANS ) , loc ( ANS , locid0 )', 'show me titleid0 job in locid0\\ttitle ( ANS , titleid0 ) , job ( ANS ) , loc ( ANS , locid0 )', 'are there ani job requir degid0\\tjob ( ANS ) , req_deg ( ANS , degid0 )', 'tell me the job use languageid0\\tjob ( ANS ) , language ( ANS , languageid0 )', 'what job are there in locid0\\tjob ( ANS ) , country ( ANS , locid0 )', 'tell me the job on platformid0\\tjob ( ANS ) , platform ( ANS , platformid0 )', 'tell me the job in areaid0\\tjob ( ANS ) , area ( ANS , areaid0 )', 'what job are there requir degid0\\tjob ( ANS ) , req_deg ( ANS , degid0 )', 'give me the job in locid0\\tjob ( ANS ) , loc ( ANS , locid0 )', 'show me someth that requir languageid0\\tjob ( ANS ) , application ( ANS , languageid0 )', 'are there ani titleid0 job open\\tjob ( ANS ) , title ( ANS , titleid0 )', 'doe companyid0 have ani titleid0 posit\\tcompany ( ANS , companyid0 ) , title ( ANS , titleid0 ) , job ( ANS )', 'what job doe recruiterid0 recruit for\\tjob ( ANS ) , recruiter ( ANS , recruiterid0 )', 'what job are there in areaid0\\tjob ( ANS ) , area ( ANS , areaid0 )', 'are there ani job requir degid0\\tjob ( ANS ) , req_deg ( ANS , degid0 )', 'what posit are there in areaid0\\tjob ( ANS ) , area ( ANS , areaid0 )', 'what job are there on platformid0\\tjob ( ANS ) , platform ( ANS , platformid0 )', 'are there ani job requir degid0\\tjob ( ANS ) , req_deg ( ANS , degid0 )', 'are there ani job in locid0\\tjob ( ANS ) , loc ( ANS , locid0 )', 'are there ani job on platformid0\\tjob ( ANS ) , platform ( ANS , platformid0 )', 'are there ani platformid0 job open\\tplatform ( ANS , platformid0 ) , job ( ANS )', 'tell me the job use languageid0\\tjob ( ANS ) , language ( ANS , languageid0 )', 'are there ani applicationid0 job open\\tapplication ( ANS , applicationid0 ) , job ( ANS )', 'list job requir degid0 use languageid0\\tjob ( ANS ) , req_deg ( ANS , degid0 ) , language ( ANS , languageid0 )', 'show me titleid0 job at companyid0\\ttitle ( ANS , titleid0 ) , job ( ANS ) , company ( ANS , companyid0 )', 'give me the job on platformid0\\tjob ( ANS ) , platform ( ANS , platformid0 )', 'what job are there in areaid0\\tjob ( ANS ) , area ( ANS , areaid0 )', 'are there ani titleid0 posit open\\ttitle ( ANS , titleid0 ) , job ( ANS )', 'are there ani job use languageid0\\tjob ( ANS ) , language ( ANS , languageid0 )', 'are there ani job on platformid0\\tjob ( ANS ) , platform ( ANS , platformid0 )', 'are there ani job requir degid0\\tjob ( ANS ) , req_deg ( ANS , degid0 )', 'what job are there on platformid0\\tjob ( ANS ) , platform ( ANS , platformid0 )', 'give me the job in languageid0\\tjob ( ANS ) , language ( ANS , languageid0 )', 'what languageid0 job are in locid0\\tlanguage ( ANS , languageid0 ) , job ( ANS ) , loc ( ANS , locid0 )', 'what job doe companyid0 recruit for\\tjob ( ANS ) , company ( ANS , companyid0 )', 'show me titleid0 job in locid0\\ttitle ( ANS , titleid0 ) , job ( ANS ) , loc ( ANS , locid0 )', 'are there ani job on platformid0\\tjob ( ANS ) , platform ( ANS , platformid0 )', 'are there ani job use languageid0\\tjob ( ANS ) , language ( ANS , languageid0 )', 'show me what job there are\\tjob ( ANS )', 'what job are there use languageid0\\tjob ( ANS ) , language ( ANS , languageid0 )', 'show job for a areaid0 specialist\\tjob ( ANS ) , area ( ANS , areaid0 )', 'what job are there requir degid0\\tjob ( ANS ) , req_deg ( ANS , degid0 )', 'tell me the job requir degid0\\tjob ( ANS ) , req_deg ( ANS , degid0 )', 'what job are there use languageid0\\tjob ( ANS ) , language ( ANS , languageid0 )', 'give me the job requir degid0\\tjob ( ANS ) , req_deg ( ANS , degid0 )', 'what job are there on platformid0\\tjob ( ANS ) , platform ( ANS , platformid0 )', 'could you list all the job\\tjob ( ANS )', 'are there ani titleid0 job open\\tjob ( ANS ) , title ( ANS , titleid0 )', 'what job are there on platformid0\\tjob ( ANS ) , platform ( ANS , platformid0 )', 'what job as titleid0 pay num_salary\\tjob ( ANS ) , title ( ANS , titleid0 ) , salary_greater_than ( ANS , num_salary , year )', 'what job are there use languageid0\\tjob ( ANS ) , language ( ANS , languageid0 )', 'show me job not involv languageid0\\tjob ( ANS ) , \\\\+ language ( ANS , languageid0 )', 'what job are there use languageid0\\tjob ( ANS ) , language ( ANS , languageid0 )', 'show me titleid0 job at companyid0\\ttitle ( ANS , titleid0 ) , job ( ANS ) , company ( ANS , companyid0 )', 'what work do you have avail\\tjob ( ANS )', 'are there ani job use languageid0\\tjob ( ANS ) , language ( ANS , languageid0 )', 'are there ani platformid0 titleid0 job\\tplatform ( ANS , platformid0 ) , title ( ANS , titleid0 ) , job ( ANS )', 'is languageid0 requir for ani job\\tjob ( ANS ) , language ( ANS , languageid0 )', 'what job are there requir degid0\\tjob ( ANS ) , req_deg ( ANS , degid0 )', 'are there ani applicationid0 job open\\tapplication ( ANS , applicationid0 ) , job ( ANS )', 'are there ani job on platformid0\\tjob ( ANS ) , platform ( ANS , platformid0 )', 'are there ani job in locid0\\tjob ( ANS ) , loc ( ANS , locid0 )', 'show me job not involv languageid0\\tjob ( ANS ) , \\\\+ language ( ANS , languageid0 )', 'give me languageid0 job on platformid0\\tjob ( ANS ) , platform ( ANS , platformid0 ) , language ( ANS , languageid0 )', 'show me job requir no experi\\tjob ( ANS ) , \\\\+ req_exp ( ANS )', 'are there ani job requir degid0\\tjob ( ANS ) , req_deg ( ANS , degid0 )', 'show me posit in areaid0 program\\tjob ( ANS ) , area ( ANS , areaid0 )', 'what job are there requir degid0\\tjob ( ANS ) , req_deg ( ANS , degid0 )', 'are there ani job on platformid0\\tjob ( ANS ) , platform ( ANS , platformid0 )', 'find all languageid0 job in locid0\\tlanguage ( ANS , languageid0 ) , job ( ANS ) , loc ( ANS , locid0 )', 'are there ani job requir degid0\\tjob ( ANS ) , req_deg ( ANS , degid0 )', 'are there ani platformid0 titleid0 job\\tplatform ( ANS , platformid0 ) , title ( ANS , titleid0 ) , job ( ANS )', 'tell me the job on platformid0\\tjob ( ANS ) , platform ( ANS , platformid0 )', 'are there ani titleid0 posit open\\ttitle ( ANS , titleid0 ) , job ( ANS )', 'what job are there on platformid0\\tjob ( ANS ) , platform ( ANS , platformid0 )', 'what job are there on platformid0\\tjob ( ANS ) , platform ( ANS , platformid0 )', 'show me job requir no experi\\tjob ( ANS ) , \\\\+ req_exp ( ANS )', 'give me the job use languageid0\\tjob ( ANS ) , language ( ANS , languageid0 )', 'what job are there use languageid0\\tjob ( ANS ) , language ( ANS , languageid0 )', 'are there ani job requir degid0\\tjob ( ANS ) , req_deg ( ANS , degid0 )', 'are there ani job in areaid0\\tjob ( ANS ) , area ( ANS , areaid0 )', 'what languageid0 job are in locid0\\tlanguage ( ANS , languageid0 ) , job ( ANS ) , loc ( ANS , locid0 )', 'are there ani job in locid0\\tjob ( ANS ) , loc ( ANS , locid0 )', 'list the compani that desir languageid0 experi\\tcompany ( A , ANS ) , language ( A , languageid0 ) , des_exp ( A )', 'are there ani titleid0 job requir degid0\\ttitle ( ANS , titleid0 ) , job ( ANS ) , req_deg ( ANS , degid0 )', 'which job at companyid0 deal with languageid0\\tjob ( ANS ) , company ( ANS , companyid0 ) , language ( ANS , languageid0 )', 'show me the job applic for titleid0\\tjob ( ANS ) , title ( ANS , titleid0 )', 'are there ani job for a titleid0\\tjob ( ANS ) , title ( ANS , titleid0 )', 'what job in locid0 requir no experi\\tjob ( ANS ) , loc ( ANS , locid0 ) , \\\\+ req_exp ( ANS )', 'what job at companyid0 requir a degid0\\tjob ( ANS ) , company ( ANS , companyid0 ) , req_deg ( ANS , degid0 )', 'show me the titleid0 job in locid0\\ttitle ( ANS , titleid0 ) , job ( ANS ) , loc ( ANS , locid0 )', 'what avail on platformid0 and near locid0\\tjob ( ANS ) , platform ( ANS , platformid0 ) , loc ( ANS , locid0 )', 'what titleid0 job are avail from companyid0\\ttitle ( ANS , titleid0 ) , job ( ANS ) , company ( ANS , companyid0 )', 'find all areaid0 administr job in locid0\\tarea ( ANS , areaid0 ) , job ( ANS ) , loc ( ANS , locid0 )', 'show me all job that are avail\\tjob ( ANS )', 'show me the titleid0 job in locid0\\ttitle ( ANS , titleid0 ) , job ( ANS ) , loc ( ANS , locid0 )', 'show the job requir degid0 in locid0\\tjob ( ANS ) , req_deg ( ANS , degid0 ) , country ( ANS , locid0 )', 'show me locid0 job requir a degid0\\tjob ( ANS ) , loc ( ANS , locid0 ) , req_deg ( ANS , degid0 )', 'what job as an titleid0 pay num_salary\\tjob ( ANS ) , title ( ANS , titleid0 ) , salary_greater_than ( ANS , num_salary , year )', 'give me job in locid0 use languageid0\\tjob ( ANS ) , loc ( ANS , locid0 ) , language ( ANS , languageid0 )', 'give me job on platformid0 use languageid0\\tjob ( ANS ) , platform ( ANS , platformid0 ) , language ( ANS , languageid0 )', 'show me all job that are avail\\tjob ( ANS )', 'could a titleid0 find work in locid0\\tjob ( ANS ) , title ( ANS , titleid0 ) , loc ( ANS , locid0 )', 'show me the job with num_salary salari\\tjob ( ANS ) , salary_greater_than ( ANS , num_salary , year )', 'show me locid0 job desir a degid0\\tloc ( ANS , locid0 ) , job ( ANS ) , des_deg ( ANS , degid0 )', 'show the job for a areaid0 specialist\\tjob ( ANS ) , area ( ANS , areaid0 )', 'what titleid0 job are there in locid0\\ttitle ( ANS , titleid0 ) , job ( ANS ) , loc ( ANS , locid0 )', 'show me titleid0 job open at companyid0\\ttitle ( ANS , titleid0 ) , job ( ANS ) , company ( ANS , companyid0 )', 'list the job for a areaid0 specialist\\tjob ( ANS ) , area ( ANS , areaid0 )', 'are there ani titleid0 job in locid0\\ttitle ( ANS , titleid0 ) , job ( ANS ) , loc ( ANS , locid0 )', 'give me job for a areaid0 specialist\\tjob ( ANS ) , area ( ANS , areaid0 )', 'what job are recruiterid0 employ hire for\\tjob ( ANS ) , recruiter ( ANS , recruiterid0 )', 'show me job at companyid0 earn num_salary\\tjob ( ANS ) , company ( ANS , companyid0 ) , salary_greater_than ( ANS , num_salary , year )', 'what job can i find with companyid0\\tjob ( ANS ) , company ( ANS , companyid0 )', 'what titleid0 job are avail from companyid0\\ttitle ( ANS , titleid0 ) , job ( ANS ) , company ( ANS , companyid0 )', 'tell me job for a areaid0 specialist\\tjob ( ANS ) , area ( ANS , areaid0 )', 'show me locid0 job requir a degid0\\tloc ( ANS , locid0 ) , job ( ANS ) , req_deg ( ANS , degid0 )', 'find all areaid0 administr job in locid0\\tarea ( ANS , areaid0 ) , job ( ANS ) , loc ( ANS , locid0 )', 'show me locid0 job requir a degid0\\tloc ( ANS , locid0 ) , job ( ANS ) , req_deg ( ANS , degid0 )', 'what job in locid0 requir no experi\\tjob ( ANS ) , loc ( ANS , locid0 ) , \\\\+ req_exp ( ANS )', 'show the job for degid0 in locid0\\treq_deg ( ANS , degid0 ) , loc ( ANS , locid0 )', 'what titleid0 job are there in locid0\\ttitle ( ANS , titleid0 ) , job ( ANS ) , loc ( ANS , locid0 )', 'give me job for a areaid0 specialist\\tjob ( ANS ) , area ( ANS , areaid0 )', 'show me the job with num_salary salari\\tjob ( ANS ) , salary_greater_than ( ANS , num_salary , year )', 'which job at companyid0 deal with languageid0\\tjob ( ANS ) , company ( ANS , companyid0 ) , language ( ANS , languageid0 )', 'what job have a recruit name recruiterid0\\tjob ( ANS ) , recruiter ( ANS , recruiterid0 )', 'i want a job that use languageid0\\tjob ( ANS ) , language ( ANS , languageid0 )', 'show the job for a areaid0 specialist\\tjob ( ANS ) , area ( ANS , areaid0 )', 'what job in locid0 requir a degid0\\tjob ( ANS ) , loc ( ANS , locid0 ) , req_deg ( ANS , degid0 )', 'show the job on platformid0 requir degid0\\tjob ( ANS ) , platform ( ANS , platformid0 ) , req_deg ( ANS , degid0 )', 'what areaid0 posit requir onli a degid0\\tarea ( ANS , areaid0 ) , job ( ANS ) , req_deg ( ANS , degid0 )', 'is anyon offer num_salary for areaid0 work\\tjob ( ANS ) , salary_greater_than ( ANS , num_salary , year ) , area ( ANS , areaid0 )', 'list the job for a areaid0 specialist\\tjob ( ANS ) , area ( ANS , areaid0 )', 'what job are recruiterid0 employ hire for\\tjob ( ANS ) , recruiter ( ANS , recruiterid0 )', 'are there ani job use languageid0 with companyid0\\tjob ( ANS ) , language ( ANS , languageid0 ) , company ( ANS , companyid0 )', 'show me locid0 job use languageid0 on platformid0\\tloc ( ANS , locid0 ) , job ( ANS ) , language ( ANS , languageid0 ) , platform ( ANS , platformid0 )', 'what are the titleid0 job avail use languageid0\\tjob ( ANS ) , language ( ANS , languageid0 ) , title ( ANS , titleid0 )', 'what companyid0 job do not requir a degid0\\tcompany ( ANS , companyid0 ) , job ( ANS ) , \\\\+ req_deg ( ANS , degid0 )', 'tell me the job requir degid0 use languageid0\\tjob ( ANS ) , req_deg ( ANS , degid0 ) , language ( ANS , languageid0 )', 'tell me the job requir degid0 in locid0\\tjob ( ANS ) , req_deg ( ANS , degid0 ) , loc ( ANS , locid0 )', 'what are the degre requir for a titleid0\\treq_deg ( B , ANS ) , title ( B , titleid0 )', 'show me the job that oper on platformid0\\tjob ( ANS ) , platform ( ANS , platformid0 )', 'are there ani job for a areaid0 specialist\\tjob ( ANS ) , area ( ANS , areaid0 )', 'show job in locid0 that requir a degid0\\tjob ( ANS ) , loc ( ANS , locid0 ) , req_deg ( ANS , degid0 )', 'what job need knowledg of languageid0 or languageid1\\tjob ( ANS ) , ( ( language ( ANS , languageid0 ) ) ; ( language ( ANS , languageid1 ) ) )', 'which job use languageid0 as their develop tool\\tjob ( ANS ) , language ( ANS , languageid0 )', 'what job are there for a areaid0 specialist\\tjob ( ANS ) , area ( ANS , areaid0 )', 'give me the job for a areaid0 specialist\\tjob ( ANS ) , area ( ANS , areaid0 )', 'are there ani job for a areaid0 specialist\\tjob ( ANS ) , area ( ANS , areaid0 )', 'what job are there for a languageid0 titleid0\\tjob ( ANS ) , language ( ANS , languageid0 ) , title ( ANS , titleid0 )', 'which job use languageid0 as their develop tool\\tjob ( ANS ) , language ( ANS , languageid0 )', 'give me job on the platformid0 use languageid0\\tjob ( ANS ) , platform ( ANS , platformid0 ) , language ( ANS , languageid0 )', 'what job use languageid0 are there in locid0\\tjob ( ANS ) , language ( ANS , languageid0 ) , loc ( ANS , locid0 )', 'what job in locid0 requir experi with platformid0\\tjob ( ANS ) , loc ( ANS , locid0 ) , req_exp ( ANS ) , platform ( ANS , platformid0 )', 'are there ani job use languageid0 in locid0\\tjob ( ANS ) , language ( ANS , languageid0 ) , loc ( ANS , locid0 )', 'what titleid0 posit in locid0 requir no experi\\ttitle ( ANS , titleid0 ) , job ( ANS ) , loc ( ANS , locid0 ) , \\\\+ req_exp ( ANS )', 'what job are there for a areaid0 specialist\\tjob ( ANS ) , area ( ANS , areaid0 )', 'what job are there for languageid0 platformid0 titleid0\\tjob ( ANS ) , language ( ANS , languageid0 ) , platform ( ANS , platformid0 ) , title ( ANS , titleid0 )', 'show me titleid0 job requir experi with platformid0\\ttitle ( ANS , titleid0 ) , job ( ANS ) , req_exp ( ANS ) , platform ( ANS , platformid0 )', 'are there ani job use languageid0 with companyid0\\tjob ( ANS ) , language ( ANS , languageid0 ) , company ( ANS , companyid0 )', 'who might offer me num_salary for areaid0 titleid0\\tjob ( ANS ) , salary_greater_than ( ANS , num_salary , year ) , area ( ANS , areaid0 ) , title ( ANS , titleid0 )', 'give me a list of all the job\\tjob ( ANS )', 'what job are there for a areaid0 specialist\\tjob ( ANS ) , area ( ANS , areaid0 )', 'what job use languageid0 are there in locid0\\tjob ( ANS ) , language ( ANS , languageid0 ) , loc ( ANS , locid0 )', 'are there ani job for a areaid0 specialist\\tjob ( ANS ) , area ( ANS , areaid0 )', 'what locat offer job use languageid0 on platformid0\\tloc ( B , ANS ) , job ( B ) , language ( B , languageid0 ) , platform ( B , platformid0 )', 'what job are there for a areaid0 specialist\\tjob ( ANS ) , area ( ANS , areaid0 )', 'what job are there in locid0 on platformid0\\tjob ( ANS ) , loc ( ANS , locid0 ) , platform ( ANS , platformid0 )', 'what job in locid0 need knowledg in platformid0\\tjob ( ANS ) , loc ( ANS , locid0 ) , platform ( ANS , platformid0 )', 'show job in locid0 that requir a degid0\\tjob ( ANS ) , loc ( ANS , locid0 ) , req_deg ( ANS , degid0 )', 'i want a job that doesnt use platformid0\\tjob ( ANS ) , \\\\+ platform ( ANS , platformid0 )', 'what job are there for a areaid0 specialist\\tjob ( ANS ) , area ( ANS , areaid0 )', 'what titleid0 job are there that use languageid0\\ttitle ( ANS , titleid0 ) , job ( ANS ) , language ( ANS , languageid0 )', 'what job requir a degid0 and no experi\\tjob ( ANS ) , req_deg ( ANS , degid0 ) , \\\\+ req_exp ( ANS )', 'what companyid0 job requir use languageid0 on platformid0\\tcompany ( ANS , companyid0 ) , job ( ANS ) , language ( ANS , languageid0 ) , platform ( ANS , platformid0 )', 'what job in locid0 use languageid0 and languageid1\\tjob ( ANS ) , loc ( ANS , locid0 ) , language ( ANS , languageid0 ) , language ( ANS , languageid1 )', 'i would like to see all the job\\tjob ( ANS )', 'what job are there for a areaid0 specialist\\tjob ( ANS ) , area ( ANS , areaid0 )', 'what titleid0 job are there that requir experi\\ttitle ( ANS , titleid0 ) , job ( ANS ) , req_exp ( ANS )', 'show me job requir a degid0 on platformid0\\tjob ( ANS ) , req_deg ( ANS , degid0 ) , platform ( ANS , platformid0 )', 'show the job use languageid0 not requir degid0\\tjob ( ANS ) , language ( ANS , languageid0 ) , \\\\+ req_deg ( ANS , degid0 )', 'what companyid0 job requir use languageid0 on platformid0\\tcompany ( ANS , companyid0 ) , job ( ANS ) , language ( ANS , languageid0 ) , platform ( ANS , platformid0 )', 'what companyid0 job do not requir a degid0\\tcompany ( ANS , companyid0 ) , job ( ANS ) , \\\\+ req_deg ( ANS , degid0 )', 'show me job requir a degid0 on platformid0\\tjob ( ANS ) , req_deg ( ANS , degid0 ) , platform ( ANS , platformid0 )', 'what are the titleid0 job avail use languageid0\\ttitle ( ANS , titleid0 ) , job ( ANS ) , language ( ANS , languageid0 )', 'give me the job for a areaid0 specialist\\tjob ( ANS ) , area ( ANS , areaid0 )', 'do you have ani job involv languageid0 on platformid0\\tjob ( ANS ) , language ( ANS , languageid0 ) , platform ( ANS , platformid0 )', 'show me languageid0 job requir a degid0 in locid0\\tlanguage ( ANS , languageid0 ) , job ( ANS ) , req_deg ( ANS , degid0 ) , loc ( ANS , locid0 )', 'what job use languageid0 on platformid0 and pay num_salary\\tjob ( ANS ) , language ( ANS , languageid0 ) , platform ( ANS , platformid0 ) , salary_greater_than ( ANS , num_salary , year )', 'show me the job that requir year0 year experi\\tjob ( ANS ) , req_exp ( ANS , year0 )', 'what job in locid0 requir year0 year of experi\\tjob ( ANS ) , loc ( ANS , locid0 ) , req_exp ( ANS , year0 )', 'show me the job that are not in languageid0\\tjob ( ANS ) , \\\\+ language ( ANS , languageid0 )', 'what job are there for titleid0 who know languageid0\\tjob ( ANS ) , title ( ANS , titleid0 ) , language ( ANS , languageid0 )', 'give some job in locid0 on a platformid0 system\\tjob ( ANS ) , loc ( ANS , locid0 ) , platform ( ANS , platformid0 )', 'show me the job use languageid0 requir a degid0\\tjob ( ANS ) , language ( ANS , languageid0 ) , req_deg ( ANS , degid0 )', 'show me all of the titleid0 job in locid0\\ttitle ( ANS , titleid0 ) , job ( ANS ) , loc ( ANS , locid0 )', 'show me job are companyid0 requir experi on platformid0\\tjob ( ANS ) , company ( ANS , companyid0 ) , req_exp ( ANS ) , platform ( ANS , platformid0 )', 'what are the job that pay num_salary per year\\tjob ( ANS ) , salary_greater_than ( ANS , num_salary , year )', 'are there ani job special in areaid0 with companyid0\\tjob ( ANS ) , area ( ANS , areaid0 ) , company ( ANS , companyid0 )', 'what are the job that requir experi with applicationid0\\tjob ( ANS ) , req_exp ( ANS ) , application ( ANS , applicationid0 )', 'show me areaid0 job which recruiterid0 is recruit for\\tarea ( ANS , areaid0 ) , job ( ANS ) , recruiter ( ANS , recruiterid0 )', 'what job need at least year0 year of experi\\tjob ( ANS ) , req_exp ( ANS , year0 )', 'what job in locid0 requir languageid0 and areaid0 experi\\tjob ( ANS ) , loc ( ANS , locid0 ) , language ( ANS , languageid0 ) , area ( ANS , areaid0 ) , req_exp ( ANS )', 'what job is there for languageid1 but not languageid0\\tjob ( ANS ) , language ( ANS , languageid1 ) , \\\\+ language ( ANS , languageid0 )', 'what job are there with a salari of num_salary\\tjob ( ANS ) , salary_greater_than ( ANS , num_salary , year )', 'what are the job that requir experi with applicationid0\\tjob ( ANS ) , req_exp ( ANS ) , application ( ANS , applicationid0 )', 'show me locid0 job with a salari of num_salary\\tloc ( ANS , locid0 ) , job ( ANS ) , salary_greater_than ( ANS , num_salary , year )', 'what job are there for a titleid0 use languageid0\\tjob ( ANS ) , title ( ANS , titleid0 ) , language ( ANS , languageid0 )', 'show me job for companyid0 requir experi on platformid0\\tjob ( ANS ) , company ( ANS , companyid0 ) , req_exp ( ANS ) , platform ( ANS , platformid0 )', 'which job in locid0 offer over num_salary in areaid0\\tjob ( ANS ) , loc ( ANS , locid0 ) , salary_greater_than ( ANS , num_salary , year ) , area ( ANS , areaid0 )', 'what job pay at least num_salary dollar per year\\tjob ( ANS ) , salary_greater_than ( ANS , num_salary , year )', 'i wish there were some languageid0 job in locid0\\tjob ( ANS ) , language ( ANS , languageid0 ) , loc ( ANS , locid0 )', 'what job desir a degre but dont use languageid0\\tjob ( ANS ) , des_deg ( ANS ) , \\\\+ language ( ANS , languageid0 )', 'what job are there for titleid0 who know languageid0\\tjob ( ANS ) , title ( ANS , titleid0 ) , language ( ANS , languageid0 )', 'what languageid0 job are there with companyid0 in locid0\\tlanguage ( ANS , languageid0 ) , job ( ANS ) , company ( ANS , companyid0 ) , loc ( ANS , locid0 )', 'what locid0 area areaid0 job requir languageid0 and languageid1\\tloc ( ANS , locid0 ) , area ( ANS , areaid0 ) , job ( ANS ) , language ( ANS , languageid0 ) , language ( ANS , languageid1 )', 'show me the titleid0 job which requir a degid0\\tjob ( ANS ) , title ( ANS , titleid0 ) , req_deg ( ANS , degid0 )', 'what job are there for titleid0 that know languageid0\\tjob ( ANS ) , title ( ANS , titleid0 ) , language ( ANS , languageid0 )', 'what job in locid0 have a salari of num_salary\\tjob ( ANS ) , loc ( ANS , locid0 ) , salary_greater_than ( ANS , num_salary , year )', 'what job in locid0 have a salari of num_salary\\tjob ( ANS ) , loc ( ANS , locid0 ) , salary_greater_than ( ANS , num_salary , year )', 'what posit are there that use languageid0 and languageid1\\tjob ( ANS ) , language ( ANS , languageid0 ) , language ( ANS , languageid1 )', 'show me job locat in locid0 for languageid0 titleid0\\tjob ( ANS ) , loc ( ANS , locid0 ) , language ( ANS , languageid0 ) , title ( ANS , titleid0 )', 'what job are there with a salari of num_salary\\tjob ( ANS ) , salary_greater_than ( ANS , num_salary , year )', 'show me job at companyid0 requir a degid0 degre\\tjob ( ANS ) , company ( ANS , companyid0 ) , req_deg ( ANS , degid0 )', 'i would like to find a job use languageid0\\tjob ( ANS ) , language ( ANS , languageid0 )', 'what job are there for titleid0 who know languageid0\\tjob ( ANS ) , title ( ANS , titleid0 ) , language ( ANS , languageid0 )', 'list all job use languageid0 and languageid1 in locid0\\tjob ( ANS ) , language ( ANS , languageid0 ) , language ( ANS , languageid1 ) , loc ( ANS , locid0 )', 'which job requir languageid0 and languageid1 but not languageid2\\tjob ( ANS ) , language ( ANS , languageid0 ) , language ( ANS , languageid1 ) , \\\\+ language ( ANS , languageid2 )', 'what job requir a degid0 and experi with languageid0\\tjob ( ANS ) , req_deg ( ANS , degid0 ) , req_exp ( ANS ) , application ( ANS , languageid0 )', 'show the job use languageid0 not requir a degid0\\tjob ( ANS ) , language ( ANS , languageid0 ) , \\\\+ req_deg ( ANS , degid0 )', 'show me the job that are not in languageid0\\tjob ( ANS ) , \\\\+ language ( ANS , languageid0 )', 'are there ani job with a salari of num_salary\\tjob ( ANS ) , salary_greater_than ( ANS , num_salary , year )', 'show me the job use languageid0 requir a degid0\\tjob ( ANS ) , language ( ANS , languageid0 ) , req_deg ( ANS , degid0 )', 'show me the job that requir year0 year experi\\tjob ( ANS ) , req_exp ( ANS , year0 )', 'what job in locid0 requir the use of languageid0\\tjob ( ANS ) , loc ( ANS , locid0 ) , language ( ANS , languageid0 )', 'what job in locid0 pay num_salary for languageid0 titleid0\\tjob ( ANS ) , loc ( ANS , locid0 ) , salary_greater_than ( ANS , num_salary , year ) , language ( ANS , languageid0 ) , title ( ANS , titleid0 )', 'titleid0 in need of num_salary in locid0 on platformid0\\tjob ( ANS ) , title ( ANS , titleid0 ) , salary_greater_than ( ANS , num_salary , year ) , loc ( ANS , locid0 ) , platform ( ANS , platformid0 )', 'could i have some job use languageid0 with languageid1\\tjob ( ANS ) , language ( ANS , languageid0 ) , application ( ANS , languageid1 )', 'what job requir knowledg of languageid0 but not languageid1\\tjob ( ANS ) , language ( ANS , languageid0 ) , \\\\+ language ( ANS , languageid1 )', 'list the job use languageid0 for a areaid0 specialist\\tjob ( ANS ) , language ( ANS , languageid0 ) , area ( ANS , areaid0 )', 'show me languageid0 job requir a degid0 in locid0\\tlanguage ( ANS , languageid0 ) , job ( ANS ) , req_deg ( ANS , degid0 ) , loc ( ANS , locid0 )', 'are there ani platformid0 titleid0 job open in locid0\\tplatform ( ANS , platformid0 ) , title ( ANS , titleid0 ) , job ( ANS ) , loc ( ANS , locid0 )', 'doe companyid0 have ani posit that dont requir experi\\tcompany ( ANS , companyid0 ) , job ( ANS ) , \\\\+ req_exp ( ANS )', 'platformid0 languageid0 and areaid0 are the key to companyid0\\tjob ( ANS ) , platform ( ANS , platformid0 ) , language ( ANS , languageid0 ) , area ( ANS , areaid0 ) , company ( ANS , companyid0 )', 'show me areaid0 job which recruiterid0 is recruit for\\tarea ( ANS , areaid0 ) , job ( ANS ) , recruiter ( ANS , recruiterid0 )', 'list the requir experi for a job use languageid0\\treq_exp ( A , ANS ) , job ( A ) , language ( A , languageid0 )', 'which job in locid0 offer over num_salary in areaid0\\tjob ( ANS ) , loc ( ANS , locid0 ) , salary_greater_than ( ANS , num_salary , year ) , area ( ANS , areaid0 )', 'show me the titleid0 job which requir a degid0\\ttitle ( ANS , titleid0 ) , job ( ANS ) , req_deg ( ANS , degid0 )', 'what job requir knowledg of languageid0 but not languageid1\\tjob ( ANS ) , language ( ANS , languageid0 ) , \\\\+ language ( ANS , languageid1 )', 'doe companyid0 have ani posit that dont requir experi\\tcompany ( ANS , companyid0 ) , job ( ANS ) , \\\\+ req_exp ( ANS )', 'show me titleid0 job requir no experi on platformid0\\ttitle ( ANS , titleid0 ) , job ( ANS ) , \\\\+ ( req_exp ( ANS ) , platform ( ANS , platformid0 ) )', 'show me locid0 job with a salari of num_salary\\tloc ( ANS , locid0 ) , job ( ANS ) , salary_greater_than ( ANS , num_salary , year )', 'what job desir a degre but dont use languageid0\\tjob ( ANS ) , des_deg ( ANS ) , \\\\+ language ( ANS , languageid0 )', 'are there ani job special in areaid0 with companyid0\\tjob ( ANS ) , area ( ANS , areaid0 ) , company ( ANS , companyid0 )', 'show me job pay greater than num_salary per year\\tjob ( ANS ) , salary_greater_than ( ANS , num_salary , year )', 'what job use languageid0 with the areaid0 on platformid0\\tjob ( ANS ) , language ( ANS , languageid0 ) , area ( ANS , areaid0 ) , platform ( ANS , platformid0 )', 'what are the languageid0 job in locid0 requir a degid0\\tlanguage ( ANS , languageid0 ) , job ( ANS ) , loc ( ANS , locid0 ) , req_deg ( ANS , degid0 )', 'which job pay num_salary that do not requir a degid0\\tjob ( ANS ) , salary_greater_than ( ANS , num_salary , year ) , \\\\+ req_deg ( ANS , degid0 )', 'list the posit that requir a knowledg of companyid0 applicationid0\\tjob ( ANS ) , application ( ANS , applicationid0 )', 'what job use languageid0 on platformid0 machin and pay num_salary\\tjob ( ANS ) , language ( ANS , languageid0 ) , platform ( ANS , platformid0 ) , salary_greater_than ( ANS , num_salary , year )', 'what job are there in locid0 that requir a degid0\\tjob ( ANS ) , loc ( ANS , locid0 ) , req_deg ( ANS , degid0 )', 'show the job offer num_salary work with languageid0 on platformid0\\tjob ( ANS ) , salary_greater_than ( ANS , num_salary , year ) , language ( ANS , languageid0 ) , platform ( ANS , platformid0 )', 'what job pay num_salary per year that requir a degid0\\tjob ( ANS ) , salary_greater_than ( ANS , num_salary , year ) , req_deg ( ANS , degid0 )', 'what job are there for locid0 platformid0 titleid0 use languageid0\\tjob ( ANS ) , loc ( ANS , locid0 ) , platform ( ANS , platformid0 ) , title ( ANS , titleid0 ) , language ( ANS , languageid0 )', 'what titleid0 job in locid0 requir a degid0 and languageid0\\ttitle ( ANS , titleid0 ) , job ( ANS ) , loc ( ANS , locid0 ) , req_deg ( ANS , degid0 ) , language ( ANS , languageid0 )', 'what job have a salari greater than 20 and hour\\tjob ( ANS ) , salary_greater_than ( ANS , 20 , hour )', 'what job are there do comput areaid0 on platformid0 machin\\tjob ( ANS ) , area ( ANS , areaid0 ) , platform ( ANS , platformid0 )', 'show me the job in locid0 use areaid0 on platformid0\\tjob ( ANS ) , loc ( ANS , locid0 ) , area ( ANS , areaid0 ) , platform ( ANS , platformid0 )', 'what companyid0 job are there that requir a degid0 degre\\tcompany ( ANS , companyid0 ) , job ( ANS ) , req_deg ( ANS , degid0 )', 'give me the job use languageid0 that dont requir platformid0\\tjob ( ANS ) , language ( ANS , languageid0 ) , \\\\+ platform ( ANS , platformid0 )', 'what are the job for a languageid0 titleid0 in locid0\\tjob ( ANS ) , language ( ANS , languageid0 ) , title ( ANS , titleid0 ) , loc ( ANS , locid0 )', 'what are the job in locid0 requir knowledg of languageid0\\tjob ( ANS ) , loc ( ANS , locid0 ) , application ( ANS , languageid0 )', 'is there anyth for an old languageid0 titleid0 on platformid0\\tjob ( ANS ) , language ( ANS , languageid0 ) , title ( ANS , titleid0 ) , platform ( ANS , platformid0 )', 'what areaid0 job are there in locid0 that pay num_salary\\tarea ( ANS , areaid0 ) , job ( ANS ) , loc ( ANS , locid0 ) , salary_greater_than ( ANS , num_salary , year )', 'show me the job use languageid0 with companyid0 in locid0\\tjob ( ANS ) , language ( ANS , languageid0 ) , company ( ANS , companyid0 ) , loc ( ANS , locid0 )', 'show me job desir a degid0 in locid0 with companyid0\\tjob ( ANS ) , des_deg ( ANS , degid0 ) , loc ( ANS , locid0 ) , company ( ANS , companyid0 )', 'list the posit that requir a knowledg of companyid0 applicationid0\\tjob ( ANS ) , application ( ANS , applicationid0 )', 'show the compani that are look for degid0 in locid0\\tcompany ( X , ANS ) , req_deg ( X , degid0 ) , loc ( X , locid0 )', 'how much experi is want for a job at companyid0\\treq_exp ( A , ANS ) , job ( A ) , company ( A , companyid0 )', 'show the job offer num_salary work with languageid0 on platformid0\\tjob ( ANS ) , salary_greater_than ( ANS , num_salary , year ) , language ( ANS , languageid0 ) , platform ( ANS , platformid0 )', 'show me the job in locid0 use areaid0 on platformid0\\tjob ( ANS ) , loc ( ANS , locid0 ) , area ( ANS , areaid0 ) , platform ( ANS , platformid0 )', 'give me job that requir areaid0 experi but no languageid0\\tjob ( ANS ) , area ( ANS , areaid0 ) , req_exp ( ANS ) , \\\\+ language ( ANS , languageid0 )', 'what job in locid0 requir knowledg of the platform platformid0\\tjob ( ANS ) , loc ( ANS , locid0 ) , platform ( ANS , platformid0 )', 'what job use languageid0 but do not requir a degre\\tjob ( ANS ) , language ( ANS , languageid0 ) , \\\\+ req_deg ( ANS )', 'what job in locid0 have open for a languageid0 titleid0\\tjob ( ANS ) , loc ( ANS , locid0 ) , language ( ANS , languageid0 ) , title ( ANS , titleid0 )', 'give me the job for a areaid0 specialist in locid0\\tjob ( ANS ) , area ( ANS , areaid0 ) , loc ( ANS , locid0 )', 'show me a companyid0 job in locid0 requir a degid0\\tcompany ( ANS , companyid0 ) , job ( ANS ) , loc ( ANS , locid0 ) , req_deg ( ANS , degid0 )', 'what job are in locid0 that are not at companyid0\\tjob ( ANS ) , loc ( ANS , locid0 ) , \\\\+ company ( ANS , companyid0 )', 'what are the job use languageid0 with salari of num_salary\\tjob ( ANS ) , language ( ANS , languageid0 ) , salary_greater_than ( ANS , num_salary , year )', 'what job in locid0 have open for a languageid0 titleid0\\tjob ( ANS ) , loc ( ANS , locid0 ) , language ( ANS , languageid0 ) , title ( ANS , titleid0 )', 'what are the languageid0 job in locid0 requir a degid0\\tlanguage ( ANS , languageid0 ) , job ( ANS ) , loc ( ANS , locid0 ) , req_deg ( ANS , degid0 )', 'show me what out there for languageid0 titleid0 on platformid0\\tjob ( ANS ) , language ( ANS , languageid0 ) , title ( ANS , titleid0 ) , platform ( ANS , platformid0 )', 'are there ani comput job in the field of areaid0\\tjob ( ANS ) , area ( ANS , areaid0 )', 'show me the job use languageid0 with companyid0 in locid0\\tjob ( ANS ) , language ( ANS , languageid0 ) , company ( ANS , companyid0 ) , loc ( ANS , locid0 )', 'show me the job concern areaid0 titleid0 on a platformid0\\tjob ( ANS ) , area ( ANS , areaid0 ) , title ( ANS , titleid0 ) , platform ( ANS , platformid0 )', 'what areaid0 relat job requir a degid0 but no experi\\tarea ( ANS , areaid0 ) , job ( ANS ) , req_deg ( ANS , degid0 ) , \\\\+ req_exp ( ANS )', 'where can i work with a degid0 and no experi\\tloc ( A , ANS ) , req_deg ( A , degid0 ) , \\\\+ req_exp ( A )', 'list the job requir languageid0 a degid0 year0 year experi\\tjob ( ANS ) , language ( ANS , languageid0 ) , req_deg ( ANS , degid0 ) , req_exp ( ANS , year0 )', 'what do you have pay over num_salary on the platformid0\\tjob ( ANS ) , salary_greater_than ( ANS , num_salary , year ) , platform ( ANS , platformid0 )', 'is companyid0 hire languageid0 titleid0 who know platformid0 in locid0\\tcompany ( ANS , companyid0 ) , job ( ANS ) , language ( ANS , languageid0 ) , title ( ANS , titleid0 ) , platform ( ANS , platformid0 ) , loc ( ANS , locid0 )', 'what job pay num_salary per year that desir a degid0\\tjob ( ANS ) , salary_greater_than ( ANS , num_salary , year ) , des_deg ( ANS , degid0 )', 'show me a companyid0 job in locid0 requir a degid0\\tcompany ( ANS , companyid0 ) , job ( ANS ) , loc ( ANS , locid0 ) , req_deg ( ANS , degid0 )', 'show me the job concern areaid0 titleid0 on a platformid0\\tjob ( ANS ) , area ( ANS , areaid0 ) , title ( ANS , titleid0 ) , platform ( ANS , platformid0 )', 'show all titleid0 posit in locid0 with areaid0 and languageid0\\ttitle ( ANS , titleid0 ) , job ( ANS ) , loc ( ANS , locid0 ) , area ( ANS , areaid0 ) , language ( ANS , languageid0 )', 'what job requir a degid0 degre and desir an degid1 degre\\tjob ( ANS ) , req_deg ( ANS , degid0 ) , des_deg ( ANS , degid1 )', 'show me job at companyid0 requir no experi and a degid0\\tjob ( ANS ) , company ( ANS , companyid0 ) , \\\\+ req_exp ( ANS ) , req_deg ( ANS , degid0 )', 'are there ani job use languageid0 that are not with companyid0\\tjob ( ANS ) , language ( ANS , languageid0 ) , \\\\+ company ( ANS , companyid0 )', 'are there ani job in languageid0 that the salari is num_salary\\tjob ( ANS ) , language ( ANS , languageid0 ) , salary_greater_than ( ANS , num_salary , year )', 'what job are there for languageid0 program who dont know languageid1\\tjob ( ANS ) , language ( ANS , languageid0 ) , \\\\+ language ( ANS , languageid1 )', 'what job are there work for companyid0 program languageid0 for applicationid0\\tjob ( ANS ) , company ( ANS , companyid0 ) , language ( ANS , languageid0 ) , application ( ANS , applicationid0 )', 'show me the job use languageid0 with salari greater than num_salary\\tjob ( ANS ) , language ( ANS , languageid0 ) , salary_greater_than ( ANS , num_salary , year )', 'are there ani job in the us with the titl titleid0\\tjob ( ANS ) , title ( ANS , titleid0 )', 'what job are there which requir languageid0 on platformid0 and platformid1\\tjob ( ANS ) , language ( ANS , languageid0 ) , platform ( ANS , platformid0 ) , platform ( ANS , platformid1 )', 'are there ani job that requir the knowledg of platformid0 platform\\tjob ( ANS ) , platform ( ANS , platformid0 )', 'show job for a languageid0 titleid0 familiar with the platformid0 environ\\tjob ( ANS ) , language ( ANS , languageid0 ) , title ( ANS , titleid0 ) , platform ( ANS , platformid0 )', 'show a list of job requir experi in languageid0 or languageid1\\tjob ( ANS ) , req_exp ( ANS ) , ( ( language ( ANS , languageid0 ) ) ; ( language ( ANS , languageid1 ) ) )', 'show me the hardwar platform associ with a titleid0 with companyid0\\tplatform ( A , ANS ) , title ( A , titleid0 ) , company ( A , companyid0 )', 'what job desir year0 year of experi with languageid0 on platformid0\\tjob ( ANS ) , des_exp ( ANS , year0 ) , language ( ANS , languageid0 ) , platform ( ANS , platformid0 )', 'are there ani job use languageid0 that dont requir a degid0\\tjob ( ANS ) , language ( ANS , languageid0 ) , \\\\+ req_deg ( ANS , degid0 )', 'are there ani job requir a degid0 for companyid0 in locid0\\tjob ( ANS ) , req_deg ( ANS , degid0 ) , company ( ANS , companyid0 ) , loc ( ANS , locid0 )', 'what job are there in locid0 that requir experi with platformid0\\tjob ( ANS ) , loc ( ANS , locid0 ) , req_exp ( ANS ) , platform ( ANS , platformid0 )', 'what job are there for languageid0 titleid0 that requir a degid0\\tjob ( ANS ) , language ( ANS , languageid0 ) , title ( ANS , titleid0 ) , req_deg ( ANS , degid0 )', 'what job are there in locid0 that requir year0 year experi\\tjob ( ANS ) , loc ( ANS , locid0 ) , req_exp ( ANS , year0 )', 'show me the job requir year0 year of experi at companyid0\\tjob ( ANS ) , req_exp ( ANS , year0 ) , company ( ANS , companyid0 )', 'what languageid0 job are there with companyid0 in locid0 use platformid0\\tapplication ( ANS , languageid0 ) , job ( ANS ) , company ( ANS , companyid0 ) , loc ( ANS , locid0 ) , platform ( ANS , platformid0 )', 'what are the posit within companyid0 that pay num_salary per year\\tjob ( ANS ) , company ( ANS , companyid0 ) , salary_greater_than ( ANS , num_salary , year )', 'are there job that do not requir a degre in locid0\\tjob ( ANS ) , \\\\+ req_deg ( ANS ) , loc ( ANS , locid0 )', 'what job requir at least year0 year of experi in languageid0\\tjob ( ANS ) , req_exp ( ANS , year0 ) , language ( ANS , languageid0 )', 'what job in locid0 onli requir a degid0 and no experi\\tjob ( ANS ) , loc ( ANS , locid0 ) , req_deg ( ANS , degid0 ) , \\\\+ req_exp ( ANS )', 'move to locid0 need a job with platformid0 languageid0 and companyid0\\tjob ( ANS ) , loc ( ANS , locid0 ) , platform ( ANS , P ) , language ( ANS , languageid0 ) , platform ( ANS , P )', 'show job that do not requir a degre for languageid0 titleid0\\tjob ( ANS ) , \\\\+ req_deg ( ANS ) , language ( ANS , languageid0 ) , title ( ANS , titleid0 )', 'what are the posit within companyid0 that pay num_salary per year\\tjob ( ANS ) , company ( ANS , companyid0 ) , salary_greater_than ( ANS , num_salary , year )', 'what job requir experi in languageid0 and languageid1 but not languageid2\\tjob ( ANS ) , req_exp ( ANS ) , language ( ANS , languageid0 ) , language ( ANS , languageid1 ) , \\\\+ language ( ANS , languageid2 )', 'what job in companyid0 in locid0 do not need a degre\\tjob ( ANS ) , company ( ANS , companyid0 ) , loc ( ANS , locid0 ) , \\\\+ req_deg ( ANS )', 'are there ani job in locid0 pay over num_salary per year\\tjob ( ANS ) , loc ( ANS , locid0 ) , salary_greater_than ( ANS , num_salary , year )', 'what locid0 job that use languageid0 do not requir ani experi\\tloc ( ANS , locid0 ) , job ( ANS ) , language ( ANS , languageid0 ) , \\\\+ req_exp ( ANS )', 'i sure would like a languageid0 job at companyid0 involv areaid0\\tjob ( ANS ) , language ( ANS , languageid0 ) , company ( ANS , companyid0 ) , area ( ANS , areaid0 )', 'show me job at companyid0 requir no experi and a degid0\\tjob ( ANS ) , company ( ANS , companyid0 ) , \\\\+ req_exp ( ANS ) , req_deg ( ANS , degid0 )', 'i wonder what companyid0 doe on platformid0 with languageid0 and platformid1\\tjob ( ANS ) , company ( ANS , companyid0 ) , platform ( ANS , platformid0 ) , language ( ANS , languageid0 ) , platform ( ANS , platformid1 )', 'what job are there work for companyid0 program languageid0 for applicationid0\\tjob ( ANS ) , company ( ANS , companyid0 ) , language ( ANS , languageid0 ) , application ( ANS , applicationid0 )', 'can you offer anyth with at least num_salary on a platformid0\\tjob ( ANS ) , salary_greater_than ( ANS , num_salary , year ) , platform ( ANS , platformid0 )', 'are there ani job use languageid0 that are not with companyid0\\tjob ( ANS ) , language ( ANS , languageid0 ) , \\\\+ company ( ANS , companyid0 )', 'what job desir year0 year of experi with languageid0 on platformid0\\tjob ( ANS ) , des_exp ( ANS , year0 ) , language ( ANS , languageid0 ) , platform ( ANS , platformid0 )', 'what job are avail for someon who know languageid0 on platformid0\\tjob ( ANS ) , platform ( ANS , platformid0 ) , application ( ANS , languageid0 )', 'what job are there in locid0 that requir a degid0 degre\\tjob ( ANS ) , loc ( ANS , locid0 ) , req_deg ( ANS , degid0 )', 'what job in locid0 requir a degid0 and languageid0 but not languageid1\\tjob ( ANS ) , loc ( ANS , locid0 ) , req_deg ( ANS , degid0 ) , language ( ANS , languageid0 ) , \\\\+ language ( ANS , languageid1 )', 'which titleid0 job in locid0 requir year0 year experi and pay num_salary\\ttitle ( ANS , titleid0 ) , job ( ANS ) , loc ( ANS , locid0 ) , req_exp ( ANS , year0 ) , salary_greater_than ( ANS , num_salary , year )', 'what job are there that dont requir a degre but use languageid0\\tjob ( ANS ) , \\\\+ req_deg ( ANS ) , language ( ANS , languageid0 )', 'what job do not requir a degre but pay more than num_salary\\tjob ( ANS ) , \\\\+ req_deg ( ANS ) , salary_greater_than ( ANS , num_salary , year )', 'what job pay num_salary are locat in locid0 and requir a degre\\tjob ( ANS ) , salary_greater_than ( ANS , num_salary , year ) , loc ( ANS , locid0 ) , req_deg ( ANS )', 'show me locid0 job use languageid0 in the specialti area of areaid0\\tloc ( ANS , locid0 ) , job ( ANS ) , language ( ANS , languageid0 ) , area ( ANS , areaid0 )', 'what job are avail use applicationid0 with a specialti area of areaid0\\tjob ( ANS ) , application ( ANS , applicationid0 ) , area ( ANS , areaid0 )', 'what titleid0 posit in areaid0 compani in locid0 do not requir languageid0\\ttitle ( ANS , titleid0 ) , job ( ANS ) , area ( ANS , areaid0 ) , loc ( ANS , locid0 ) , \\\\+ language ( ANS , languageid0 )', 'show me job with a salari greater than num_salary dollar a year\\tjob ( ANS ) , salary_greater_than ( ANS , num_salary , year )', 'are there job use languageid0 in locid0 with applicationid0 and on platformid0\\tjob ( ANS ) , language ( ANS , languageid0 ) , loc ( ANS , locid0 ) , application ( ANS , applicationid0 ) , platform ( ANS , platformid0 )', 'which titleid0 job in locid0 requir year0 year experi and pay num_salary\\ttitle ( ANS , titleid0 ) , job ( ANS ) , loc ( ANS , locid0 ) , req_exp ( ANS , year0 ) , salary_greater_than ( ANS , num_salary , year )', 'are there ani job that requir a knowledg of platformid0 in locid0\\tjob ( ANS ) , platform ( ANS , platformid0 ) , loc ( ANS , locid0 )', 'what job in locid0 requir a degid0 degre and deal with areaid0\\tjob ( ANS ) , loc ( ANS , locid0 ) , req_deg ( ANS , degid0 ) , area ( ANS , areaid0 )', 'show me the languageid0 job in locid0 that desir year0 year experi\\tlanguage ( ANS , languageid0 ) , job ( ANS ) , loc ( ANS , locid0 ) , des_exp ( ANS , year0 )', 'what job in locid0 offer a languageid0 titleid0 for num_salary a year\\tjob ( ANS ) , loc ( ANS , locid0 ) , language ( ANS , languageid0 ) , title ( ANS , titleid0 ) , salary_greater_than ( ANS , num_salary , year )', 'what areaid0 job are avail that need platformid0 experi and no degre\\tarea ( ANS , areaid0 ) , job ( ANS ) , platform ( ANS , platformid0 ) , req_exp ( ANS ) , \\\\+ req_deg ( ANS )', 'show me job in locid0 use languageid0 on platformid0 requir a degid0\\tjob ( ANS ) , loc ( ANS , locid0 ) , language ( ANS , languageid0 ) , platform ( ANS , platformid0 ) , req_deg ( ANS , degid0 )', 'show the job with the titl titleid0 requir year0 year of experi\\tjob ( ANS ) , title ( ANS , titleid0 ) , req_exp ( ANS , year0 )', 'are there ani job in locid0 develop areaid0 in platformid0 use languageid0\\tjob ( ANS ) , loc ( ANS , locid0 ) , area ( ANS , areaid0 ) , platform ( ANS , platformid0 ) , language ( ANS , languageid0 )', 'show me locid0 job use languageid0 in the specialti area of areaid0\\tloc ( ANS , locid0 ) , job ( ANS ) , language ( ANS , languageid0 ) , area ( ANS , areaid0 )', 'show me the areaid0 job in locid0 with a salari of num_salary\\tarea ( ANS , areaid0 ) , job ( ANS ) , loc ( ANS , locid0 ) , salary_greater_than ( ANS , num_salary , year )', 'onli companyid0 languageid0 platformid0 and applicationid0 and num_salary dollar can satiat me\\tjob ( ANS ) , company ( ANS , companyid0 ) , language ( ANS , languageid0 ) , platform ( ANS , platformid0 ) , application ( ANS , applicationid0 ) , salary_greater_than ( ANS , num_salary , year )', 'what job is there for a degid0 with year0 year of experi\\tjob ( ANS ) , req_deg ( ANS , degid0 ) , req_exp ( ANS , year0 )', 'show me job in locid0 use languageid0 on platformid0 requir a degid0\\tjob ( ANS ) , loc ( ANS , locid0 ) , language ( ANS , languageid0 ) , platform ( ANS , platformid0 ) , req_deg ( ANS , degid0 )', 'what job are avail use applicationid0 with a specialti area of areaid0\\tjob ( ANS ) , application ( ANS , applicationid0 ) , area ( ANS , areaid0 )', 'show me job with the platformid0 in the specialti area of areaid0\\tjob ( ANS ) , platform ( ANS , platformid0 ) , area ( ANS , areaid0 )', 'what job as a titleid0 are avail in locid1 but not locid0\\tjob ( ANS ) , title ( ANS , titleid0 ) , loc ( ANS , locid1 ) , \\\\+ loc ( ANS , locid0 )', 'show the job with the titl system titleid0 requir year0 year of experi\\tjob ( ANS ) , title ( ANS , titleid0 ) , req_exp ( ANS , year0 )', 'what job in locid0 desir a degid0 are there for a languageid0 titleid0\\tjob ( ANS ) , loc ( ANS , locid0 ) , des_deg ( ANS , degid0 ) , language ( ANS , languageid0 ) , title ( ANS , titleid0 )', 'what program languag are desir for a job as a titleid0 at companyid0\\tlanguage ( A , ANS ) , job ( A ) , title ( A , titleid0 ) , company ( A , companyid0 )', 'what job are there outsid locid0 which pay less than num_salary per year\\tjob ( ANS ) , \\\\+ loc ( ANS , locid0 ) , salary_less_than ( ANS , num_salary , year )', 'show me job in locid0 use platformid0 that do not requir a degid0\\tjob ( ANS ) , loc ( ANS , locid0 ) , platform ( ANS , platformid0 ) , \\\\+ req_deg ( ANS , degid0 )', 'what in locid0 that pay over num_salary on platformid0 with areaid0 and languageid0\\tjob ( ANS ) , loc ( ANS , locid0 ) , salary_greater_than ( ANS , num_salary , year ) , platform ( ANS , platformid0 ) , area ( ANS , areaid0 ) , language ( ANS , languageid0 )', 'greed for num_salary and languageid0 titleid0 want to live in locid0 at companyid0\\tjob ( ANS ) , salary_greater_than ( ANS , num_salary , year ) , language ( ANS , languageid0 ) , title ( ANS , titleid0 ) , loc ( ANS , locid0 ) , company ( ANS , companyid0 )', 'which job offer me num_salary to work on areaid0 and areaid1 with languageid0\\tjob ( ANS ) , salary_greater_than ( ANS , num_salary , year ) , area ( ANS , areaid0 ) , area ( ANS , areaid1 ) , language ( ANS , languageid0 )', 'what job requir languageid0 and pay a salari greater than num_salary per year\\tjob ( ANS ) , language ( ANS , languageid0 ) , salary_greater_than ( ANS , num_salary , year )', 'what job requir a degre for languageid0 titleid0 who do not know languageid1\\tjob ( ANS ) , req_deg ( ANS ) , language ( ANS , languageid0 ) , title ( ANS , titleid0 ) , \\\\+ language ( ANS , languageid1 )', 'show me a job that requir languageid0 and languageid1 and is in locid0\\tjob ( ANS ) , language ( ANS , languageid0 ) , language ( ANS , languageid1 ) , loc ( ANS , locid0 )', 'which job in locid0 offer for student fresh out of colleg in areaid0\\tjob ( ANS ) , loc ( ANS , locid0 ) , \\\\+ req_exp ( ANS ) , area ( ANS , areaid0 )', 'vaniti want num_salary a month with buzword like languageid0 companyid0 areaid0 and locid0\\tjob ( ANS ) , salary_greater_than ( ANS , num_salary , month ) , language ( ANS , languageid0 ) , company ( ANS , companyid0 ) , area ( ANS , areaid0 ) , loc ( ANS , locid0 )', 'what job on platformid0 are for program languageid0 and desir year0 year experi\\tjob ( ANS ) , platform ( ANS , platformid0 ) , language ( ANS , languageid0 ) , des_exp ( ANS , year0 )', 'are there ani job at companyid0 that requir no experi and pay num_salary\\tjob ( ANS ) , company ( ANS , companyid0 ) , \\\\+ req_exp ( ANS ) , salary_greater_than ( ANS , num_salary , year )', 'what job on platformid0 are for program languageid0 and desir year0 year experi\\tjob ( ANS ) , platform ( ANS , platformid0 ) , language ( ANS , languageid0 ) , des_exp ( ANS , year0 )', 'show me job in locid0 use platformid0 that do not requir a degid0\\tjob ( ANS ) , loc ( ANS , locid0 ) , platform ( ANS , platformid0 ) , \\\\+ req_deg ( ANS , degid0 )', 'what job are there in locid0 that use languageid0 and requir no experi\\tjob ( ANS ) , loc ( ANS , locid0 ) , language ( ANS , languageid0 ) , \\\\+ req_exp ( ANS )', 'show me job use languageid0 that requir a degid0 and desir a degid1\\tjob ( ANS ) , language ( ANS , languageid0 ) , req_deg ( ANS , degid0 ) , des_deg ( ANS , degid1 )', 'what job are there in locid0 that use languageid0 and requir no experi\\tjob ( ANS ) , loc ( ANS , locid0 ) , language ( ANS , languageid0 ) , \\\\+ req_exp ( ANS )', 'which job in locid0 offer for student fresh out of colleg in areaid0\\tjob ( ANS ) , loc ( ANS , locid0 ) , \\\\+ req_exp ( ANS ) , area ( ANS , areaid0 )', 'what job are there in locid0 for peopl with knowledg of the applic languageid0\\tjob ( ANS ) , loc ( ANS , locid0 ) , application ( ANS , languageid0 )', 'are there ani job in locid0 requir at least a degid0 and know languageid0\\tjob ( ANS ) , loc ( ANS , locid0 ) , req_deg ( ANS , degid0 ) , language ( ANS , languageid0 )', 'i hold a degre in degid0 in locid0 are there ani job for me\\tdes_deg ( ANS , degid0 ) , loc ( ANS , locid0 ) , job ( ANS )', 'show me the job at compani in locid0 that want a degre in degid0\\tjob ( ANS ) , loc ( ANS , locid0 ) , des_deg ( ANS , degid0 )', 'show me the job use languageid0 that requir a degid0 but desir a degid1\\tjob ( ANS ) , language ( ANS , languageid0 ) , req_deg ( ANS , degid0 ) , des_deg ( ANS , degid1 )', 'what job are there in locid0 for titleid0 area areaid0 on platformid0 use languageid0\\tjob ( ANS ) , loc ( ANS , locid0 ) , title ( ANS , titleid0 ) , area ( ANS , areaid0 ) , platform ( ANS , platformid0 ) , language ( ANS , languageid0 )', 'what job are avail that requir languageid0 but not areaid0 experi or areaid1 experi\\tjob ( ANS ) , language ( ANS , languageid0 ) , \\\\+ ( area ( ANS , areaid0 ) , req_exp ( ANS ) ) ; ( area ( ANS , areaid1 ) , req_exp ( ANS ) )', 'show me the job use languageid0 that requir a degid0 but desir a degid1\\tjob ( ANS ) , language ( ANS , languageid0 ) , req_deg ( ANS , degid0 ) , des_deg ( ANS , degid1 )', 'what job are there for languageid0 titleid0 which pay more than num_salary per year\\tjob ( ANS ) , language ( ANS , languageid0 ) , title ( ANS , titleid0 ) , salary_greater_than ( ANS , num_salary , year )', 'can i find a job make more than num_salary a year without a degre\\tjob ( ANS ) , salary_greater_than ( ANS , num_salary , year ) , \\\\+ req_deg ( ANS )', 'what job are there with a salari of more than num_salary dollar per year\\tjob ( ANS ) , salary_greater_than ( ANS , num_salary , year )', 'show me areaid0 job in locid0 requir an degid0 and the knowledg of languageid0\\tarea ( ANS , areaid0 ) , job ( ANS ) , loc ( ANS , locid0 ) , req_deg ( ANS , degid0 ) , language ( ANS , languageid0 )', 'which job are for degid0 major with at least year0 year experi in platformid0\\tjob ( ANS ) , req_deg ( ANS , degid0 ) , req_exp ( ANS , year0 ) , platform ( ANS , platformid0 )', 'what are the job in locid0 that requir at least year0 year of experi\\tjob ( ANS ) , loc ( ANS , locid0 ) , req_exp ( ANS , year0 )', 'which job are for degid0 major with at least year0 year experi in platformid0\\tjob ( ANS ) , req_deg ( ANS , degid0 ) , req_exp ( ANS , year0 ) , platform ( ANS , platformid0 )', 'show me the job at compani in locid0 that want a degre in degid0\\tjob ( ANS ) , loc ( ANS , locid0 ) , des_deg ( ANS , degid0 )', 'show me areaid0 job in locid0 requir an degid0 and the knowledg of languageid0\\tarea ( ANS , areaid0 ) , job ( ANS ) , loc ( ANS , locid0 ) , req_deg ( ANS , degid0 ) , language ( ANS , languageid0 )', 'what job give me num_salary to work in locid0 on areaid0 and areaid1 with languageid0\\tjob ( ANS ) , salary_greater_than ( ANS , num_salary , year ) , loc ( ANS , locid0 ) , area ( ANS , areaid0 ) , area ( ANS , areaid1 ) , language ( ANS , languageid0 )', 'what job are there in locid0 with a salari of at least num_salary per year\\tjob ( ANS ) , loc ( ANS , locid0 ) , salary_greater_than ( ANS , num_salary , year )', 'what job requir a degid0 year0 year of experi pay num_salary and are in locid0\\tjob ( ANS ) , req_deg ( ANS , degid0 ) , req_exp ( ANS , year0 ) , salary_greater_than ( ANS , num_salary , year ) , loc ( ANS , locid0 )', 'what job use languageid0 and languageid1 are avail in locid0 and pay num_salary a year\\tjob ( ANS ) , language ( ANS , languageid0 ) , language ( ANS , languageid1 ) , loc ( ANS , locid0 ) , salary_greater_than ( ANS , num_salary , year )', 'what job in locid0 requir year0 year of experi but desir year1 year of experi\\tjob ( ANS ) , loc ( ANS , locid0 ) , req_exp ( ANS , year0 ) , des_exp ( ANS , year1 )', 'show me job in comput areaid0 requir a degid0 in art and knowledg of applicationid0\\tjob ( ANS ) , area ( ANS , areaid0 ) , req_deg ( ANS , degid0 ) , application ( ANS , applicationid0 )', 'what job requir a degid0 year0 year of experi pay num_salary and are in locid0\\tjob ( ANS ) , req_deg ( ANS , degid0 ) , req_exp ( ANS , year0 ) , salary_greater_than ( ANS , num_salary , year ) , loc ( ANS , locid0 )', 'i sure do wish there were languageid0 languageid1 job out there . can you help\\tjob ( ANS ) , language ( ANS , languageid0 ) , language ( ANS , languageid1 )', 'show me the job in locid0 that desir year0 year of experi and use languageid0\\tjob ( ANS ) , loc ( ANS , locid0 ) , des_exp ( ANS , year0 ) , language ( ANS , languageid0 )', 'show me job in comput areaid0 requir a degid0 in art and knowledg of applicationid0\\tjob ( ANS ) , area ( ANS , areaid0 ) , req_deg ( ANS , degid0 ) , application ( ANS , applicationid0 )', 'what job in locid0 are for a languageid0 titleid0 that involv platformid0 and the areaid0\\tjob ( ANS ) , loc ( ANS , locid0 ) , language ( ANS , languageid0 ) , title ( ANS , titleid0 ) , platform ( ANS , platformid0 ) , area ( ANS , areaid0 )', 'what job in locid0 are there that requir a degid0 with year0 year of experi\\tjob ( ANS ) , loc ( ANS , locid0 ) , req_deg ( ANS , degid0 ) , req_exp ( ANS , year0 )', 'show me the job in locid0 that desir year0 year of experi and use languageid0\\tjob ( ANS ) , loc ( ANS , locid0 ) , des_exp ( ANS , year0 ) , language ( ANS , languageid0 )', 'what job in locid0 requir year0 year of experi but desir year1 year of experi\\tjob ( ANS ) , loc ( ANS , locid0 ) , req_exp ( ANS , year0 ) , des_exp ( ANS , year1 )', 'show me locid0 job requir a degid0 degre with a salari greater than num_salary per year\\tloc ( ANS , locid0 ) , job ( ANS ) , req_deg ( ANS , degid0 ) , salary_greater_than ( ANS , num_salary , year )', 'show me the job that requir year0 year of experi but desir year1 year of experi\\tjob ( ANS ) , req_exp ( ANS , year0 ) , des_exp ( ANS , year1 )', 'show me job in locid0 requir knowledg of platformid0 and pay more than num_salary a year\\tjob ( ANS ) , loc ( ANS , locid0 ) , platform ( ANS , platformid0 ) , salary_greater_than ( ANS , num_salary , year )', 'show me job in locid0 that use languageid0 on platformid0 for a titleid0 pay at least num_salary\\tjob ( ANS ) , loc ( ANS , locid0 ) , language ( ANS , languageid0 ) , platform ( ANS , platformid0 ) , title ( ANS , titleid0 ) , salary_greater_than ( ANS , num_salary , year )', 'if i move to locid0 and learn languageid0 on languageid1 could i find anyth for num_salary on platformid0\\tjob ( ANS ) , loc ( ANS , locid0 ) , language ( ANS , languageid0 ) , application ( ANS , languageid1 ) , salary_greater_than ( ANS , num_salary , year ) , platform ( ANS , platformid0 )', 'what job requir year0 year of experi requir a degid0 are in languageid0 and are locat in locid0\\tjob ( ANS ) , req_exp ( ANS , year0 ) , req_deg ( ANS , degid0 ) , language ( ANS , languageid0 ) , loc ( ANS , locid0 )', 'are there ani job for peopl in locid0 that want to program in languageid0 but do not have a degre\\tjob ( ANS ) , loc ( ANS , locid0 ) , language ( ANS , languageid0 ) , \\\\+ req_deg ( ANS )', 'are there ani job for peopl in locid0 that want to program in languageid0 but do not have a degre\\tjob ( ANS ) , loc ( ANS , locid0 ) , language ( ANS , languageid0 ) , \\\\+ req_deg ( ANS )', 'what job requir year0 year of experi requir a degid0 in cs are in languageid0 and are locat in locid0\\tjob ( ANS ) , req_exp ( ANS , year0 ) , req_deg ( ANS , degid0 ) , language ( ANS , languageid0 ) , loc ( ANS , locid0 )', 'what job are avail\\tjob ( ANS )', 'list job use languageid0\\tjob ( ANS ) , language ( ANS , languageid0 )', 'list job on platformid0\\tjob ( ANS ) , platform ( ANS , platformid0 )', 'list job use languageid0\\tjob ( ANS ) , language ( ANS , languageid0 )', 'list job in locid0\\tjob ( ANS ) , loc ( ANS , locid0 )', 'list job requir degid0\\tjob ( ANS ) , req_deg ( ANS , degid0 )', 'what is out there\\tjob ( ANS )', 'list job on platformid0\\tjob ( ANS ) , platform ( ANS , platformid0 )', 'list job use languageid0\\tjob ( ANS ) , language ( ANS , languageid0 )', 'what job pay num_salary\\tjob ( ANS ) , salary_greater_than ( ANS , num_salary , year )', 'give me job in locid0\\tjob ( ANS ) , loc ( ANS , locid0 )', 'list the job use languageid0\\tjob ( ANS ) , language ( ANS , languageid0 )', 'doe anyon still use platformid0\\tjob ( ANS ) , platform ( ANS , platformid0 )', 'tell me job requir degid0\\tjob ( ANS ) , req_deg ( ANS , degid0 )', 'show the job use languageid0\\tjob ( ANS ) , language ( ANS , languageid0 )', 'give me job in locid0\\tjob ( ANS ) , loc ( ANS , locid0 )', 'what job do you have\\tjob ( ANS )', 'tell me job on platformid0\\tjob ( ANS ) , platform ( ANS , platformid0 )', 'tell me job in locid0\\tjob ( ANS ) , loc ( ANS , locid0 )', 'tell me job requir degid0\\tjob ( ANS ) , req_deg ( ANS , degid0 )', 'show the job on platformid0\\tjob ( ANS ) , platform ( ANS , platformid0 )', 'show me job in locid0\\tjob ( ANS ) , loc ( ANS , locid0 )', 'list the job in locid0\\tjob ( ANS ) , loc ( ANS , locid0 )', 'tell me the job in locid0\\tjob ( ANS ) , loc ( ANS , locid0 )', 'what job are there in areaid0\\tjob ( ANS ) , area ( ANS , areaid0 )', 'give me the job use languageid0\\tjob ( ANS ) , language ( ANS , languageid0 )', 'what job are there on platformid0\\tjob ( ANS ) , platform ( ANS , platformid0 )', 'languageid0 areaid0 and languageid1 and areaid1\\tjob ( ANS ) , language ( ANS , languageid0 ) , area ( ANS , areaid0 ) , language ( ANS , languageid1 ) , language ( ANS , languageid1 ) , area ( ANS , areaid1 )', 'give me the job in languageid0\\tjob ( ANS ) , language ( ANS , languageid0 )', 'are there ani job in locid0\\tjob ( ANS ) , loc ( ANS , locid0 )', 'are there ani job with companyid0\\tjob ( ANS ) , company ( ANS , companyid0 )', 'give me the job use languageid0\\tjob ( ANS ) , language ( ANS , languageid0 )', 'are there ani job in areaid0\\tjob ( ANS ) , area ( ANS , areaid0 )', 'tell me what job there are\\tjob ( ANS )', 'what job are there in languageid0\\tjob ( ANS ) , language ( ANS , languageid0 )', 'give me the job on platformid0\\tjob ( ANS ) , platform ( ANS , platformid0 )', 'tell me the job use languageid0\\tjob ( ANS ) , language ( ANS , languageid0 )', 'what job are there use languageid0\\tjob ( ANS ) , language ( ANS , languageid0 )', 'are there ani job on platformid0\\tjob ( ANS ) , platform ( ANS , platformid0 )', 'are there ani job in locid0\\tjob ( ANS ) , country ( ANS , locid0 )', 'show me posit in areaid0 program\\tjob ( ANS ) , area ( ANS , areaid0 )', 'what job are there use languageid0\\tjob ( ANS ) , language ( ANS , languageid0 )', 'are there ani job use languageid0\\tjob ( ANS ) , language ( ANS , languageid0 )', 'tell me the job in areaid0\\tjob ( ANS ) , area ( ANS , areaid0 )', 'give me the job in locid0\\tjob ( ANS ) , loc ( ANS , locid0 )', 'give me the job requir degid0\\tjob ( ANS ) , req_deg ( ANS , degid0 )', 'are there languageid0 job outsid locid0\\tlanguage ( ANS , languageid0 ) , job ( ANS ) , \\\\+ loc ( ANS , locid0 )', 'are there languageid0 job outsid locid0\\tlanguage ( ANS , languageid0 ) , job ( ANS ) , \\\\+ loc ( ANS , locid0 )', 'give me the job on platformid0\\tjob ( ANS ) , platform ( ANS , platformid0 )', 'show job for a areaid0 specialist\\tjob ( ANS ) , area ( ANS , areaid0 )', 'what job are there use languageid0\\tjob ( ANS ) , language ( ANS , languageid0 )', 'show me the job which use applicationid0\\tjob ( ANS ) , application ( ANS , applicationid0 )', 'show me job at companyid0 earn num_salary\\tjob ( ANS ) , company ( ANS , companyid0 ) , salary_greater_than ( ANS , num_salary , year )', 'show me the job which use applicationid0\\tjob ( ANS ) , application ( ANS , applicationid0 )', 'show me locid0 job requir a degid0\\tloc ( ANS , locid0 ) , job ( ANS ) , req_deg ( ANS , degid0 )', 'what job in locid0 requir a degid0\\tjob ( ANS ) , loc ( ANS , locid0 ) , req_deg ( ANS , degid0 )', 'tell me job on platformid0 in areaid0\\tjob ( ANS ) , platform ( ANS , platformid0 ) , area ( ANS , areaid0 )', 'what level of experi doe companyid0 desir\\tdes_exp ( J , ANS ) , company ( J , companyid0 )', 'what job at companyid0 requir a degid0\\tjob ( ANS ) , company ( ANS , companyid0 ) , req_deg ( ANS , degid0 )', 'can you show me all the job\\tjob ( ANS )', 'what areaid0 posit requir onli a degid0\\tarea ( ANS , areaid0 ) , job ( ANS ) , req_deg ( ANS , degid0 )', 'tell me job for a areaid0 specialist\\tjob ( ANS ) , area ( ANS , areaid0 )', 'show me locid0 job desir a degid0\\tloc ( ANS , locid0 ) , job ( ANS ) , des_deg ( ANS , degid0 )', 'what job are avail for a platformid0 titleid0\\tjob ( ANS ) , platform ( ANS , platformid0 ) , title ( ANS , titleid0 )', 'show me the job that oper on platformid0\\tjob ( ANS ) , platform ( ANS , platformid0 )', 'give me the job for a areaid0 specialist\\tjob ( ANS ) , area ( ANS , areaid0 )', 'what job in locid0 requir languageid0 and platformid0\\tjob ( ANS ) , loc ( ANS , locid0 ) , language ( ANS , languageid0 ) , platform ( ANS , platformid0 )', 'give me the job on platformid0 in languageid0\\tjob ( ANS ) , platform ( ANS , platformid0 ) , language ( ANS , languageid0 )', 'are there ani job with companyid0 involv languageid0\\tjob ( ANS ) , company ( ANS , companyid0 ) , language ( ANS , languageid0 )', 'give me the job for a areaid0 specialist\\tjob ( ANS ) , area ( ANS , areaid0 )', 'are there ani job for a areaid0 specialist\\tjob ( ANS ) , area ( ANS , areaid0 )', 'what job are there for a areaid0 specialist\\tjob ( ANS ) , area ( ANS , areaid0 )', 'are there ani comput job for the platformid0\\tjob ( ANS ) , platform ( ANS , platformid0 )', 'what can i find use languageid0 on platformid0\\tjob ( ANS ) , language ( ANS , languageid0 ) , platform ( ANS , platformid0 )', 'show me locid0 job use languageid0 on platformid0\\tloc ( ANS , locid0 ) , job ( ANS ) , language ( ANS , languageid0 ) , platform ( ANS , platformid0 )', 'give some job in locid0 on a platformid0 system\\tjob ( ANS ) , loc ( ANS , locid0 ) , platform ( ANS , platformid0 )', 'are there ani job with a salari of num_salary\\tjob ( ANS ) , salary_greater_than ( ANS , num_salary , year )', 'what job in locid0 or locid1 desir a degre\\tjob ( ANS ) , ( ( loc ( ANS , locid0 ) ) ; ( loc ( ANS , locid1 ) ) ) , des_deg ( ANS )', 'do ani job exist program for companyid0 on platformid0\\tjob ( ANS ) , company ( ANS , companyid0 ) , platform ( ANS , platformid0 )', 'what job are there on platformid0 involv the areaid0\\tjob ( ANS ) , platform ( ANS , platformid0 ) , area ( ANS , areaid0 )', 'what job are there in locid0 requir a degid0\\tjob ( ANS ) , loc ( ANS , locid0 ) , req_deg ( ANS , degid0 )', 'what are the job that pay num_salary per year\\tjob ( ANS ) , salary_greater_than ( ANS , num_salary , year )', 'show me all of the areaid0 job in locid0\\tarea ( ANS , areaid0 ) , job ( ANS ) , loc ( ANS , locid0 )', 'what languageid0 job are there with companyid0 in locid0\\tlanguage ( ANS , languageid0 ) , job ( ANS ) , company ( ANS , companyid0 ) , loc ( ANS , locid0 )', 'show me the job with a salari of num_salary\\tjob ( ANS ) , salary_greater_than ( ANS , num_salary , year )', 'show me titleid0 job requir no experi on platformid0\\ttitle ( ANS , titleid0 ) , job ( ANS ) , \\\\+ ( req_exp ( ANS ) , platform ( ANS , platformid0 ) )', 'what are the posit within companyid0 that requir degid0\\tjob ( ANS ) , company ( ANS , companyid0 ) , req_deg ( ANS , degid0 )', 'show me the job with a salari of num_salary\\tjob ( ANS ) , salary_greater_than ( ANS , num_salary , year )', 'list all job use languageid0 and languageid1 in locid0\\tjob ( ANS ) , language ( ANS , languageid0 ) , language ( ANS , languageid1 ) , loc ( ANS , locid0 )', 'give me the job use languageid0 that dont requir platformid0\\tjob ( ANS ) , language ( ANS , languageid0 ) , \\\\+ platform ( ANS , platformid0 )', 'list the job requir languageid0 a degid0 year0 year experi\\tjob ( ANS ) , language ( ANS , languageid0 ) , req_deg ( ANS , degid0 ) , req_exp ( ANS , year0 )', 'what are the job use languageid0 with salari of num_salary\\tjob ( ANS ) , language ( ANS , languageid0 ) , salary_greater_than ( ANS , num_salary , year )', 'what job are in locid0 that are not at companyid0\\tjob ( ANS ) , loc ( ANS , locid0 ) , \\\\+ company ( ANS , companyid0 )', 'what program job are there in locid0 that use languageid0\\tjob ( ANS ) , loc ( ANS , locid0 ) , language ( ANS , languageid0 )', 'are there ani job at companyid0 that requir a degid0\\tjob ( ANS ) , company ( ANS , companyid0 ) , req_deg ( ANS , degid0 )', 'what job are there do comput areaid0 on platformid0 machin\\tjob ( ANS ) , area ( ANS , areaid0 ) , platform ( ANS , platformid0 )', 'which job pay num_salary that do not requir a degid0\\tjob ( ANS ) , salary_greater_than ( ANS , num_salary , year ) , \\\\+ req_deg ( ANS , degid0 )', 'are there ani job at companyid0 that requir a degid0\\tjob ( ANS ) , company ( ANS , companyid0 ) , req_deg ( ANS , degid0 )', 'show all titleid0 posit in locid0 with areaid0 and languageid0\\ttitle ( ANS , titleid0 ) , job ( ANS ) , loc ( ANS , locid0 ) , area ( ANS , areaid0 ) , language ( ANS , languageid0 )', 'what job use languageid0 on platformid0 machin and pay num_salary\\tjob ( ANS ) , language ( ANS , languageid0 ) , platform ( ANS , platformid0 ) , salary_greater_than ( ANS , num_salary , year )', 'what job are there for platformid0 titleid0 that know languageid0\\tjob ( ANS ) , platform ( ANS , platformid0 ) , title ( ANS , titleid0 ) , application ( ANS , languageid0 )', 'show me job desir a degid0 in locid0 with companyid0\\tjob ( ANS ) , des_deg ( ANS , degid0 ) , loc ( ANS , locid0 ) , company ( ANS , companyid0 )', 'what areaid0 job are there in locid0 that pay num_salary\\tarea ( ANS , areaid0 ) , job ( ANS ) , loc ( ANS , locid0 ) , salary_greater_than ( ANS , num_salary , year )', 'show me the job requir year0 year of experi at companyid0\\tjob ( ANS ) , req_exp ( ANS , year0 ) , company ( ANS , companyid0 )', 'what languageid0 job are there with companyid0 in locid0 use platformid0\\tlanguage ( ANS , languageid0 ) , job ( ANS ) , company ( ANS , companyid0 ) , loc ( ANS , locid0 ) , platform ( ANS , platformid0 )', 'show me a job not requirng languageid0 and not in locid0\\tjob ( ANS ) , \\\\+ language ( ANS , languageid0 ) , \\\\+ loc ( ANS , locid0 )', 'are there ani job use languageid0 that dont requir a degid0\\tjob ( ANS ) , language ( ANS , languageid0 ) , \\\\+ req_deg ( ANS , degid0 )', 'are there ani job in languageid0 that the salari is num_salary\\tjob ( ANS ) , language ( ANS , languageid0 ) , salary_greater_than ( ANS , num_salary , year )', 'which job requir knowldg of languageid0 but dont special in areaid0\\tjob ( ANS ) , language ( ANS , languageid0 ) , \\\\+ area ( ANS , areaid0 )', 'what kind of job are avail for languageid0 titleid0 in locid0\\tjob ( ANS ) , language ( ANS , languageid0 ) , title ( ANS , titleid0 ) , loc ( ANS , locid0 )', 'show me job that requir year0 year work experi in languageid0\\tjob ( ANS ) , req_exp ( ANS , year0 ) , language ( ANS , languageid0 )', 'are there ani job requir a degid0 for companyid0 in locid0\\tjob ( ANS ) , req_deg ( ANS , degid0 ) , company ( ANS , companyid0 ) , loc ( ANS , locid0 )', 'what job can a languageid0 titleid0 find in locid0 on platformid0\\tjob ( ANS ) , language ( ANS , languageid0 ) , title ( ANS , titleid0 ) , loc ( ANS , locid0 ) , platform ( ANS , platformid0 )', 'what job are there for languageid0 program who dont know languageid1\\tjob ( ANS ) , language ( ANS , languageid0 ) , \\\\+ language ( ANS , languageid1 )', 'what job in locid0 onli requir a degid0 and no experi\\tjob ( ANS ) , loc ( ANS , locid0 ) , req_deg ( ANS , degid0 ) , \\\\+ req_exp ( ANS )', 'show me a job not requirng languageid0 and not in locid0\\tjob ( ANS ) , \\\\+ language ( ANS , languageid0 ) , \\\\+ loc ( ANS , locid0 )', 'what posit in companyid0 do i need a degid0 to work\\tjob ( ANS ) , company ( ANS , companyid0 ) , req_deg ( ANS , degid0 )', 'what kind of job could i find for an old languageid0 titleid0\\tjob ( ANS ) , language ( ANS , languageid0 ) , title ( ANS , titleid0 )', 'what job pay num_salary are locat in locid0 and requir a degre\\tjob ( ANS ) , salary_greater_than ( ANS , num_salary , year ) , loc ( ANS , locid0 ) , req_deg ( ANS )', 'what job are there that dont requir a degre but use languageid0\\tjob ( ANS ) , \\\\+ req_deg ( ANS ) , language ( ANS , languageid0 )', 'what job pay num_salary are locat in locid0 and requir a degid0\\tjob ( ANS ) , salary_greater_than ( ANS , num_salary , year ) , loc ( ANS , locid0 ) , req_deg ( ANS , degid0 )', 'show me the languageid0 job in locid0 that desir year0 year experi\\tlanguage ( ANS , languageid0 ) , job ( ANS ) , loc ( ANS , locid0 ) , des_exp ( ANS , year0 )', 'are there ani job that do not requir year0 year of experi\\tjob ( ANS ) , \\\\+ req_exp ( ANS , year0 )', 'show me the areaid0 job in locid0 with a salari of num_salary\\tarea ( ANS , areaid0 ) , job ( ANS ) , loc ( ANS , locid0 ) , salary_greater_than ( ANS , num_salary , year )', 'show me the titl of the avail job use languageid0 in locid0\\ttitle ( J , ANS ) , job ( J ) , language ( J , languageid0 ) , loc ( J , locid0 )', 'what job requir a degid0 and pay more than num_salary per year\\tjob ( ANS ) , req_deg ( ANS , degid0 ) , salary_greater_than ( ANS , num_salary , year )', 'what are the job that requir experi with platformid1 but not platformid0\\tjob ( ANS ) , req_exp ( ANS ) , platform ( ANS , platformid1 ) , \\\\+ platform ( ANS , platformid0 )', 'show me job use languageid0 that requir a degid0 and desir a degid1\\tjob ( ANS ) , language ( ANS , languageid0 ) , req_deg ( ANS , degid0 ) , des_deg ( ANS , degid1 )', 'can you show me languageid0 job with num_salary salari with areaid0 and applicationid0\\tjob ( ANS ) , language ( ANS , languageid0 ) , salary_greater_than ( ANS , num_salary , year ) , area ( ANS , areaid0 ) , application ( ANS , applicationid0 )', 'show me the job use languageid0 with salari greater than num_salary per year\\tjob ( ANS ) , language ( ANS , languageid0 ) , salary_greater_than ( ANS , num_salary , year )', 'what job in locid0 are there that pay at least num_salary per year\\tjob ( ANS ) , loc ( ANS , locid0 ) , salary_greater_than ( ANS , num_salary , year )', 'are there ani job at companyid0 that requir no experi and pay num_salary\\tjob ( ANS ) , company ( ANS , companyid0 ) , \\\\+ req_exp ( ANS ) , salary_greater_than ( ANS , num_salary , year )', 'what are the job in locid0 that requir at least year0 year of experi\\tjob ( ANS ) , loc ( ANS , locid0 ) , req_exp ( ANS , year0 )', 'are there ani job in locid0 requir at least a degid0 and know languageid0\\tjob ( ANS ) , loc ( ANS , locid0 ) , req_deg ( ANS , degid0 ) , language ( ANS , languageid0 )', 'what job use languageid0 and languageid1 are avail in locid0 and pay num_salary a year\\tjob ( ANS ) , language ( ANS , languageid0 ) , language ( ANS , languageid1 ) , loc ( ANS , locid0 ) , salary_greater_than ( ANS , num_salary , year )', 'show me the job that requir year0 year of experi but desir year1 year of experi\\tjob ( ANS ) , req_exp ( ANS , year0 ) , des_exp ( ANS , year1 )', 'there must be some job out there for a languageid0 titleid0 that think in platformid0 areaid0\\tjob ( ANS ) , language ( ANS , languageid0 ) , title ( ANS , titleid0 ) , platform ( ANS , platformid0 ) , area ( ANS , areaid0 )', 'what are the job for titleid0 in locid0 that has salari num_salary that use languageid0 and not relat with areaid0\\tjob ( ANS ) , title ( ANS , titleid0 ) , loc ( ANS , locid0 ) , salary_greater_than ( ANS , num_salary , year ) , language ( ANS , languageid0 ) , \\\\+ area ( ANS , areaid0 )', 'id like to see the job in locid0 for a languageid0 titleid0 make at least num_salary a year invlov areaid0\\tjob ( ANS ) , loc ( ANS , locid0 ) , language ( ANS , languageid0 ) , title ( ANS , titleid0 ) , salary_greater_than ( ANS , num_salary , year ) , area ( ANS , areaid0 )', 'show job that are not in locid0 pay less than num_salary requir knowledg of languageid0 languageid1 and languageid2 and desir a degid0\\tjob ( ANS ) , \\\\+ loc ( ANS , locid0 ) , salary_less_than ( ANS , num_salary , year ) , language ( ANS , languageid0 ) , language ( ANS , languageid1 ) , language ( ANS , languageid2 ) , des_deg ( ANS , degid0 )']\n"
     ]
    }
   ],
   "source": [
    "#input reference data\n",
    "with open(reference_data_path1,encoding='utf8') as f:\n",
    "    raw_data_1 = f.read().splitlines()\n",
    "with open(reference_data_path2,encoding='utf8') as f:\n",
    "    raw_data_2 = f.read().splitlines()\n",
    "raw_data = raw_data_1 + raw_data_2\n",
    "print(raw_data)"
   ]
  },
  {
   "cell_type": "code",
   "execution_count": 823,
   "metadata": {},
   "outputs": [
    {
     "name": "stdout",
     "output_type": "stream",
     "text": [
      "['locid0', 'companyid0', 'areaid0', 'degid0', 'titleid0', 'platformid0', 'recruiterid0', 'languageid0', 'applicationid0', 'year0']\n"
     ]
    }
   ],
   "source": [
    "#search for tokens\n",
    "test_token_list = []\n",
    "for string in raw_data:\n",
    "    k = re.findall(r'[a-zA-Z]+0',string)\n",
    "    if k !=[]:\n",
    "        test_token_list.append(k[0])\n",
    "test_token_list=list(set(test_token_list))\n",
    "print(test_token_list)"
   ]
  },
  {
   "cell_type": "code",
   "execution_count": 824,
   "metadata": {},
   "outputs": [],
   "source": [
    "#output the token libarary\n",
    "with open((output_token), 'w',encoding='utf-8') as file:\n",
    "    for i in test_token_list:\n",
    "        file.write( i+ '\\n')"
   ]
  },
  {
   "cell_type": "code",
   "execution_count": 825,
   "metadata": {},
   "outputs": [
    {
     "name": "stdout",
     "output_type": "stream",
     "text": [
      "500\n"
     ]
    }
   ],
   "source": [
    "#input original data\n",
    "with open(ori_train_data, encoding = 'utf-8') as f:\n",
    "    ori_data_train = f.read().splitlines()\n",
    "with open(ori_test_data, encoding = 'utf-8') as f:\n",
    "    ori_data_test = f.read().splitlines() \n",
    "print(len(ori_data_train))"
   ]
  },
  {
   "cell_type": "code",
   "execution_count": 826,
   "metadata": {},
   "outputs": [],
   "source": [
    "word_list = ['loc','company','area','title','platform','recruiter','language','application','req_deg','des_deg']\n",
    "#######please keep in mind that degid0 and year0 is not defined here"
   ]
  },
  {
   "cell_type": "code",
   "execution_count": 827,
   "metadata": {},
   "outputs": [
    {
     "name": "stdout",
     "output_type": "stream",
     "text": [
      "{'loc': [], 'company': [], 'area': [], 'title': [], 'platform': [], 'recruiter': [], 'language': [], 'application': [], 'req_deg': [], 'des_deg': []}\n",
      "dict_keys(['loc', 'company', 'area', 'title', 'platform', 'recruiter', 'language', 'application', 'req_deg', 'des_deg'])\n"
     ]
    }
   ],
   "source": [
    "#find keywords for tokens in word_list\n",
    "#use regex to find certain characters\n",
    "key_word_dict = {}\n",
    "for w in word_list:\n",
    "    key_word_dict[w] = []\n",
    "print(key_word_dict)\n",
    "print(key_word_dict.keys())"
   ]
  },
  {
   "cell_type": "code",
   "execution_count": 828,
   "metadata": {},
   "outputs": [],
   "source": [
    "#fuction for extract the essential keywords\n",
    "#extract keywords for substitute\n",
    "#def extractword(test_keywords_list):\n",
    "#[\"loc(A,L),const(L,'austin')\", \"loc(A,Z),const(Z,'austin')\", \"loc(A,C),const(C,'boston')\",]\n",
    "def extract_wd(token_dict,keys):\n",
    "    platform_token = []\n",
    "    for string in token_dict[keys]:\n",
    "        k=re.findall(r'\\'[A-Za-z0-9\\s\\+/]+\\'',string)\n",
    "        # \"loc(A,Z),const(Z,'austin')\"\n",
    "        if k!=[]:\n",
    "            platform_token.append(k[0])\n",
    "        for index in range(len(platform_token)):\n",
    "            platform_token[index] =platform_token[index].replace('\\'','')\n",
    "        platform_token = list(set(platform_token))\n",
    "    return(platform_token)"
   ]
  },
  {
   "cell_type": "code",
   "execution_count": 829,
   "metadata": {},
   "outputs": [
    {
     "name": "stdout",
     "output_type": "stream",
     "text": [
      "{'loc': ['seattle', 'usa', 'new york', 'san antonio', 'los alamos', 'california', 'colorado', 'canada', 'nashville', 'texas', 'houston', 'tulsa', 'boston', 'san jose', 'austin', 'dallas', 'washington'], 'company': ['Microsoft', 'Trilogy', 'Dell', 'National Instruments', 'HP', 'Compaq', 'JPL', 'Boeing', 'Lockheed Martin Aeronautics', 'Tivoli', 'IBM', 'Apple'], 'area': ['wan', 'tcp/ip', 'network', 'lan', 'telecommunications', 'ethernet', 'management', 'web', 'data warehousing', '3d graphics', 'animation', 'client/server', 'com', 'device driver', 'gui', 'oil pipeline modeling', 'graphics', 'ai', 'internet', 'database', 'networking', 'games', 'odbc'], 'title': ['research assistant', 'engineer', 'Project Manager', 'Senior Development Engineer', 'Systems Administrator', 'Programmer', 'NetWare Administrator', 'Senior Consulting Engineer', 'Developer', 'Test Engineer', 'intern', 'Software Engineer', 'Systems Analyst', 'Web Developer', 'Verification Engineer', 'Manufacturing Manager', 'Sql Engineer', 'Senior Software Developer', 'System Administrator', 'Ic Design Engineer', 'Software Developer'], 'platform': ['mvs', 'silicon graphics', 'linux', 'windows nt', 'windows', 'mac', 'pc', 'sun', 'vax', 'unix', 'vms', 'windows 95', 'solaris', 'IBM', 'aix', 'x86', 'playstation', 'novell'], 'recruiter': ['Phil Smith', 'Longhorn', 'LCS'], 'language': ['html', 'powerbuilder', 'ada', 'cobol ii', 'cobol', 'assembly', 'tcl/tk', 'rpg', 'cics', 'latex', 'shell', 'c++', 'visual c++', 'java', 'visual j++', 'lisp', 'perl', 'sql', 'prolog', 'visual basic', 'haskell', 'c', 'vb', 'fortran', 'pascal'], 'application': ['excel', 'oracle', 'sql server', 'speedy3dgraphics', 'apache', 'microsoft word', 'autocad'], 'req_deg': ['BSEE', 'BA', 'BACS', 'BSCS', 'MBA', 'BS', 'PhD', 'MSCS', 'master'], 'des_deg': ['MSEE', 'BSCS', 'MSCS']}\n"
     ]
    }
   ],
   "source": [
    "#find keywords for tokens in train data\n",
    "#use regex to find certain characters\n",
    "#reference: platform(A,C),const(C,'solaris')\n",
    "token_dict={}\n",
    "for key_w in key_word_dict.keys():\n",
    "    test_keywords_list = []\n",
    "    word = key_w+'\\([_A-Z0-9]+,[_A-Z0-9]+\\),const\\([_A-Z0-9]+,\\\\\\'[A-Za-z\\s\\W0-9]+\\\\\\'\\)'\n",
    "    for string in ori_data_train:\n",
    "        k = re.findall(word,string)\n",
    "        #print(k)\n",
    "        if k!=[]:\n",
    "            test_keywords_list.append(k[0])\n",
    "            token_dict[key_w] = test_keywords_list\n",
    "#print(token_dict)\n",
    "\n",
    "for key_w in token_dict.keys():\n",
    "    token=extract_wd(token_dict,key_w)\n",
    "    token_dict[key_w] = token\n",
    "print(token_dict)"
   ]
  },
  {
   "cell_type": "code",
   "execution_count": 830,
   "metadata": {},
   "outputs": [
    {
     "name": "stdout",
     "output_type": "stream",
     "text": [
      "{'loc': ['seattle', 'usa', 'new york', 'san antonio', 'los alamos', 'california', 'colorado', 'canada', 'nashville', 'texas', 'houston', 'tulsa', 'boston', 'san jose', 'austin', 'dallas', 'washington'], 'company': ['Microsoft', 'Trilogy', 'Dell', 'National Instruments', 'HP', 'Compaq', 'JPL', 'Boeing', 'Lockheed Martin Aeronautics', 'Tivoli', 'IBM', 'Apple'], 'area': ['wan', 'tcp/ip', 'network', 'lan', 'telecommunications', 'ethernet', 'management', 'web', 'data warehousing', '3d graphics', 'animation', 'client/server', 'com', 'device driver', 'gui', 'oil pipeline modeling', 'graphics', 'ai', 'internet', 'database', 'networking', 'games', 'odbc'], 'title': ['research assistant', 'engineer', 'Project Manager', 'Senior Development Engineer', 'Systems Administrator', 'Programmer', 'NetWare Administrator', 'Senior Consulting Engineer', 'Developer', 'Test Engineer', 'intern', 'Software Engineer', 'Systems Analyst', 'Web Developer', 'Verification Engineer', 'Manufacturing Manager', 'Sql Engineer', 'Senior Software Developer', 'System Administrator', 'Ic Design Engineer', 'Software Developer'], 'platform': ['mvs', 'silicon graphics', 'linux', 'windows nt', 'windows', 'mac', 'pc', 'sun', 'vax', 'unix', 'vms', 'windows 95', 'solaris', 'IBM', 'aix', 'x86', 'playstation', 'novell'], 'recruiter': ['Phil Smith', 'Longhorn', 'LCS'], 'language': ['html', 'powerbuilder', 'ada', 'cobol ii', 'cobol', 'assembly', 'tcl/tk', 'rpg', 'cics', 'latex', 'shell', 'c++', 'visual c++', 'java', 'visual j++', 'lisp', 'perl', 'sql', 'prolog', 'visual basic', 'haskell', 'c', 'vb', 'fortran', 'pascal'], 'application': ['excel', 'oracle', 'sql server', 'speedy3dgraphics', 'apache', 'microsoft word', 'autocad'], 'req_deg': ['BSEE', 'BA', 'BACS', 'BSCS', 'MBA', 'BS', 'PhD', 'MSCS', 'master'], 'des_deg': ['MSEE', 'BSCS', 'MSCS']}\n",
      "True\n"
     ]
    }
   ],
   "source": [
    "#find token for test data\n",
    "#loc(_1587,_1604),const(_1604,'usa')))).\n",
    "token_dict_test={}\n",
    "for key_w in key_word_dict.keys():\n",
    "    test_keywords_list = []\n",
    "    word = key_w+'\\([_A-Z0-9]+,[_A-Z0-9]+\\),const\\([_A-Z0-9]+,\\\\\\'[A-Za-z0-9\\s\\W]+\\\\\\'\\)'\n",
    "    for string in ori_data_train:\n",
    "        k = re.findall(word,string)\n",
    "        #print(k)\n",
    "        if k!=[]:\n",
    "            test_keywords_list.append(k[0])\n",
    "            token_dict_test[key_w] = test_keywords_list\n",
    "#print(token_dict)\n",
    "\n",
    "for key_w in token_dict.keys():\n",
    "    token=extract_wd(token_dict_test,key_w)\n",
    "    token_dict_test[key_w] = token\n",
    "print(token_dict_test)\n",
    "print(token_dict_test==token_dict)"
   ]
  },
  {
   "cell_type": "code",
   "execution_count": 851,
   "metadata": {},
   "outputs": [
    {
     "name": "stdout",
     "output_type": "stream",
     "text": [
      "500\n",
      "['what jobs are there for web developer who know c++ ?', 'what systems analyst jobs are there in austin ?', 'what jobs pay 60000 are located in austin and require a degree ?', 'what jobs are there for pascal programmers who dont know c++ ?', 'what jobs use cobol on ibm machines and pay 70000 ?', 'what jobs use c++ on mac and pay 70000 ?', 'what jobs desire a degree but dont use c++ ?', 'show me the jobs using c++ that require a bscs but desire a mscs ?', 'what jobs on pc are for programming assembly and desire 5 years experience ?', 'show me jobs for dell requiring experience on unix ?']\n",
      "140\n",
      "['what jobs are available ?', 'tell me the jobs in usa ?', 'list jobs using cobol ii ?', 'what jobs are there in odbc ?', 'give me jobs in dallas ?', 'what jobs are available for a solaris systems administrator ?', 'show me the jobs requiring 3 years of experience at ibm ?', 'give me the jobs using c++ that dont require windows ?', 'list the jobs using cobol ii ?', 'give me the jobs using c ?']\n"
     ]
    }
   ],
   "source": [
    "# let's seperate the natural language part from the input documents\n",
    "#example parse([what,jobs,in,austin,only,require,a,bscs,and,no,experience,?],\n",
    "#answer(A,(job(A),loc(A,C),const(C,'austin'),req_deg(A,D),const(D,'BSCS'),\\+req_exp(A)))).\n",
    "#['locid0', 'companyid0', 'areaid0', 'degid0', 'titleid0', 'platformid0', 'recruiterid0', \n",
    "#'languageid0', 'applicationid0', 'year0']\n",
    "#ori_data_train/ori_data_test\n",
    "nl_sentence_train = []\n",
    "for string in ori_data_train:\n",
    "    k=re.findall(r'parse\\(\\[(.+)\\]',string)\n",
    "    sentence = k[0].replace(',',' ')\n",
    "    sentences = sentence.replace('\\'','')\n",
    "    nl_sentence_train.append(sentences)\n",
    "print(len(nl_sentence_train))\n",
    "print(nl_sentence_train[0:10])\n",
    "\n",
    "\n",
    "nl_sentence_test = []\n",
    "for string in ori_data_test:\n",
    "    k=re.findall(r'parse\\(\\[(.+)\\]',string)\n",
    "    sentence = k[0].replace(',',' ')\n",
    "    sentences = sentence.replace('\\'','')\n",
    "    nl_sentence_test.append(sentences)\n",
    "print(len(nl_sentence_test))\n",
    "print(nl_sentence_test[0:10])"
   ]
  },
  {
   "cell_type": "code",
   "execution_count": 855,
   "metadata": {},
   "outputs": [
    {
     "name": "stdout",
     "output_type": "stream",
     "text": [
      "{'loc': ['san antonio', 'washington', 'los alamos', 'california', 'nashville', 'colorado', 'new york', 'san jose', 'houston', 'seattle', 'austin', 'boston', 'canada', 'dallas', 'texas', 'tulsa', 'usa'], 'company': ['lockheed martin aeronautics', 'national instruments', 'microsoft', 'trilogy', 'tivoli', 'boeing', 'compaq', 'apple', 'dell', 'jpl', 'ibm', 'hp'], 'area': ['oil pipeline modeling', 'telecommunications', 'data warehousing', 'client/server', 'device driver', '3d graphics', 'networking', 'management', 'animation', 'internet', 'graphics', 'ethernet', 'database', 'network', 'tcp/ip', 'games', 'odbc', 'gui', 'com', 'wan', 'lan', 'web', 'ai'], 'title': ['senior development engineer', 'senior consulting engineer', 'senior software developer', 'verification engineer', 'netware administrator', 'systems administrator', 'manufacturing manager', 'system administrator', 'software developer', 'research assistant', 'ic design engineer', 'software engineer', 'systems analyst', 'project manager', 'test engineer', 'web developer', 'sql engineer', 'programmer', 'developer', 'engineer', 'intern'], 'platform': ['silicon graphics', 'playstation', 'windows 95', 'windows nt', 'windows', 'solaris', 'novell', 'linux', 'unix', 'x86', 'ibm', 'sun', 'mac', 'mvs', 'vax', 'vms', 'aix', 'pc'], 'recruiter': ['phil smith', 'longhorn', 'lcs'], 'language': ['powerbuilder', 'visual basic', 'visual j++', 'visual c++', 'cobol ii', 'assembly', 'haskell', 'fortran', 'pascal', 'prolog', 'tcl/tk', 'shell', 'cobol', 'latex', 'perl', 'cics', 'html', 'java', 'lisp', 'ada', 'rpg', 'c++', 'sql', 'vb', 'c'], 'application': ['speedy3dgraphics', 'microsoft word', 'sql server', 'autocad', 'apache', 'oracle', 'excel'], 'req_deg': ['master', 'bacs', 'bsee', 'bscs', 'mscs', 'phd', 'mba', 'ba', 'bs'], 'des_deg': ['mscs', 'msee', 'bscs']}\n"
     ]
    }
   ],
   "source": [
    "#transfer into lowercase keywords to match with sentences\n",
    "lowercase_token_dict={}\n",
    "for key_w in token_dict.keys():\n",
    "    lower_word_list=[]\n",
    "    for words in token_dict[key_w]:\n",
    "        lower_word_list.append(words.lower())\n",
    "        lower_word_list.sort(key = lambda s:len(s))\n",
    "        lower_word_list = lower_word_list[::-1]\n",
    "        lowercase_token_dict[key_w]=lower_word_list\n",
    "print(lowercase_token_dict)\n",
    "\n"
   ]
  },
  {
   "cell_type": "code",
   "execution_count": 897,
   "metadata": {},
   "outputs": [
    {
     "name": "stdout",
     "output_type": "stream",
     "text": [
      "{'locid': ['san antonio', 'washington', 'los alamos', 'california', 'nashville', 'colorado', 'new york', 'san jose', 'houston', 'seattle', 'austin', 'boston', 'canada', 'dallas', 'texas', 'tulsa', 'usa'], 'companyid': ['lockheed martin aeronautics', 'national instruments', 'microsoft', 'trilogy', 'tivoli', 'boeing', 'compaq', 'apple', 'dell', 'jpl', 'ibm', 'hp'], 'titleid': ['senior development engineer', 'senior consulting engineer', 'senior software developer', 'verification engineer', 'netware administrator', 'systems administrator', 'manufacturing manager', 'system administrator', 'software developer', 'research assistant', 'ic design engineer', 'software engineer', 'systems analyst', 'project manager', 'test engineer', 'web developer', 'sql engineer', 'programmer', 'developer', 'engineer', 'intern'], 'recruiterid': ['phil smith', 'longhorn', 'lcs'], 'applicationid': ['speedy3dgraphics', 'microsoft word', 'sql server', 'autocad', 'apache', 'oracle', 'excel'], 'degid': ['master', 'bacs', 'bsee', 'bscs', 'mscs', 'mscs', 'msee', 'bscs', 'phd', 'mba', 'ba', 'bs'], 'areaid': ['oil pipeline modeling', 'telecommunications', 'data warehousing', 'client/server', 'client server', 'device driver', '3d graphics', 'networking', 'management', 'statistics', 'animation', 'internet', 'graphics', 'ethernet', 'database', 'network', 'tcp ip', 'tcp/ip', 'area', 'games', 'odbc', 'ole', 'gui', 'com', 'wan', 'lan', 'web', 'ai'], 'platformid': ['silicon graphics', 'playstation', 'commodores', 'windows 95', 'windows nt', 'windows', 'solaris', 'novell', 'linux', 'pdp11', 'pdp11s', 'unix', 'suns', 'x86', 'ibm', 'sun', 'mac', 'mvs', 'vax', 'vms', 'aix', 'pc'], 'languageid': ['powerbuilder', 'visual basic', 'visual j++', 'visual c++', 'cobol ii', 'assembly', 'haskell', 'fortran', 'pascal', 'prolog', 'tcl/tk', 'shell', 'cobol', 'latex', 'vc++', 'perl', 'cics', 'html', 'java', 'lisp', 'ada', 'rpg', 'c++', 'sql', 'vb', 'c']}\n"
     ]
    }
   ],
   "source": [
    "#change the token to ends with id0\n",
    "#'locid0', 'companyid0', 'areaid0', 'degid0', 'titleid0', 'platformid0', 'recruiterid0', 'languageid0', 'applicationid0', 'year0\n",
    "lowercase_dict={}\n",
    "for key_w in lowercase_token_dict.keys():\n",
    "    lowercase_dict[key_w+'id']=lowercase_token_dict[key_w]\n",
    "lowercase_dict['degid']=lowercase_dict['req_degid']+lowercase_dict['des_degid']\n",
    "lowercase_dict['degid'].sort(key=len,reverse=True)\n",
    "del(lowercase_dict['areaid'])\n",
    "lowercase_dict['areaid'] = ['oil pipeline modeling', 'telecommunications', 'data warehousing', 'client/server', 'client server','device driver', '3d graphics', 'networking', 'management', 'statistics','animation', 'internet', 'graphics', 'ethernet', 'database', 'network','tcp ip','tcp/ip', 'area','games', 'odbc', 'ole','gui', 'com', 'wan', 'lan', 'web', 'ai']\n",
    "del(lowercase_dict['req_degid'])\n",
    "del(lowercase_dict['platformid'])\n",
    "lowercase_dict['platformid'] = ['silicon graphics', 'playstation', 'commodores','windows 95', 'windows nt', 'windows', 'solaris', 'novell', 'linux','pdp11', 'pdp11s','unix', 'suns','x86', 'ibm', 'sun', 'mac', 'mvs', 'vax', 'vms', 'aix', 'pc']\n",
    "del(lowercase_dict['languageid'])\n",
    "lowercase_dict['languageid'] = ['powerbuilder', 'visual basic', 'visual j++', 'visual c++', 'cobol ii', 'assembly', 'haskell', 'fortran', 'pascal', 'prolog', 'tcl/tk', 'shell', 'cobol', 'latex', 'vc++','perl', 'cics', 'html', 'java', 'lisp', 'ada', 'rpg', 'c++', 'sql', 'vb', 'c']\n",
    "del(lowercase_dict['des_degid'])\n",
    "print(lowercase_dict)"
   ]
  },
  {
   "cell_type": "code",
   "execution_count": 898,
   "metadata": {},
   "outputs": [],
   "source": [
    "#Wait this may not be right\n",
    "#substitude numbers\n",
    "#example:\n",
    "# ip_addr = re.sub(r'^0*', '', ip_addr)\n",
    "#for index in range(len(nl_sentence_train)):\n",
    " #   nl_sentence_train[index] = re.sub(r'[0-9]+','degid',nl_sentence_train[index])\n",
    "#print(nl_sentence_train[0:10])"
   ]
  },
  {
   "cell_type": "code",
   "execution_count": 899,
   "metadata": {},
   "outputs": [],
   "source": [
    "#Wait this may not be right\n",
    "#substitude numbers\n",
    "#example:\n",
    "# ip_addr = re.sub(r'^0*', '', ip_addr)\n",
    "#for index in range(len(nl_sentence_test)):\n",
    " #   nl_sentence_test[index] = re.sub(r'[0-9]+','degid',nl_sentence_test[index])\n",
    "#print(nl_sentence_test[0:10])"
   ]
  },
  {
   "cell_type": "code",
   "execution_count": 903,
   "metadata": {
    "scrolled": true
   },
   "outputs": [
    {
     "name": "stdout",
     "output_type": "stream",
     "text": [
      "['what jobs are there for titleid0 who know languageid0 ?', 'what titleid0 jobs are there in locid0 ?', 'what jobs pay 60000 are located in locid0 and require a degree ?', 'what jobs are there for languageid0 programmers who dont know languageid0 ?', 'what jobs use languageid0 on companyid0 machines and pay 70000 ?', 'what jobs use languageid0 on platformid0 and pay 70000 ?', 'what jobs desire a degree but dont use languageid0 ?', 'show me the jobs using languageid0 that require a degid0 but desire a degid0 ?', 'what jobs on platformid0 are for programming languageid0 and desire 5 years experience ?', 'show me jobs for companyid0 requiring experience on platformid0 ?']\n",
      "500\n"
     ]
    }
   ],
   "source": [
    "#substitude\n",
    "import copy\n",
    "nl_sub_train=nl_sentence_train.copy()\n",
    "for key_w in lowercase_dict.keys():\n",
    "    for index in range(len(nl_sub_train)):\n",
    "        for words in lowercase_dict[key_w]:\n",
    "            cnt = 0\n",
    "            if ' '+words+' ' in nl_sub_train[index]:\n",
    "                words = ' '+words+' '\n",
    "                nl_sub_train[index]=nl_sub_train[index].replace(words,' '+key_w+str(count)+' ')\n",
    "                cnt+=0\n",
    "#replace back degid\n",
    "#for index in range(len(nl_sb_train)):\n",
    "    #nl_sb_train[index]=nl_sb_train[index].replace('degid','degid0')\n",
    "print(nl_sub_train[0:10])\n",
    "print(len(nl_sub_train))"
   ]
  },
  {
   "cell_type": "code",
   "execution_count": 904,
   "metadata": {},
   "outputs": [
    {
     "name": "stdout",
     "output_type": "stream",
     "text": [
      "['what jobs are there on companyid0 ?', 'give me the jobs for a areaid0 specialist ?', 'show me jobs using languageid0 that require a degid0 and desire a degid0 ?', 'give me the jobs in languageid0 ?', 'what jobs are there that dont require a degree but use languageid0 ?']\n",
      "140\n"
     ]
    }
   ],
   "source": [
    "#substitude\n",
    "import copy\n",
    "nl_sb_test=nl_sentence_test.copy()\n",
    "for key_w in lowercase_dict.keys():\n",
    "    for index in range(len(nl_sb_test)):\n",
    "        for words in lowercase_dict[key_w]:\n",
    "            count = 0\n",
    "            if ' '+words+' ' in nl_sb_test[index]:\n",
    "                words = ' '+words+' '\n",
    "                nl_sb_test[index]=nl_sb_test[index].replace(words,' '+key_w+str(count)+' ')\n",
    "                count+=1\n",
    "#replace back degid\n",
    "#for index in range(len(nl_sb_test)):\n",
    " #nl_sb_test[index]=nl_sb_test[index].replace('degid','degid0')\n",
    "print(nl_sb_test[15:20])\n",
    "print(len(nl_sb_test))"
   ]
  },
  {
   "cell_type": "code",
   "execution_count": 905,
   "metadata": {},
   "outputs": [
    {
     "name": "stdout",
     "output_type": "stream",
     "text": [
      "['what jobs are there for titleid0 who know languageid0 ?', 'what titleid0 jobs are there in locid0 ?', 'what jobs pay 60000 are located in locid0 and require a degree ?', 'what jobs are there for languageid0 programmers who dont know languageid0 ?', 'what jobs use languageid0 on companyid0 machines and pay 70000 ?', 'what jobs use languageid0 on platformid0 and pay 70000 ?', 'what jobs desire a degree but dont use languageid0 ?', 'show me the jobs using languageid0 that require a degid0 but desire a degid0 ?', 'what jobs on platformid0 are for programming languageid0 and desire year0 years experience ?', 'show me jobs for companyid0 requiring experience on platformid0 ?', 'show me jobs at companyid0 requiring no experience and a degid0 ?', 'show me titleid0 jobs at companyid0 ?', 'show me locid0 jobs with a salary of 50000 ?', 'find all areaid0 administration jobs in locid0 ?', 'find all languageid0 jobs in locid0 ?', 'show me a companyid0 job in locid0 requiring a degid0 ?', 'which jobs in locid0 offer over 50000 in areaid0 ?', 'which jobs at companyid0 deal with languageid0 ?', 'which jobs are for degid0 majors with at least year0 years experience in platformid0 ?', 'what are the positions within companyid0 that pay 40000 per year ?', 'what jobs in locid0 have openings for a languageid0 titleid0 ?', 'show me the job application for titleid0 ?', 'are there any jobs specializing in areaid0 with companyid0 ?', 'what jobs are recruiterid0 employment hiring for ?', 'show me the jobs concerning game titleid0 on a platformid0 ?', 'what jobs in locid0 have a salary of 60000 ?', 'show me jobs requiring a degid0 on platformid0 ?', 'what jobs are there doing computer areaid0 on silicon areaid0 machines ?', 'which jobs pay 60000 that do not require a degid0 ?', 'what job is there for languageid0 but not languageid0 ?', 'what jobs in locid0 require a degid0 ?', 'what jobs are available using applicationid0 with a specialty areaid0 of areaid0 ?', 'show me the jobs using languageid0 with companyid0 in locid0 ?', 'what jobs pay 40000 per year that require a degid0 ?', 'show me the jobs in locid0 using areaid0 on platformid0 ?', 'are there any jobs at companyid0 that require no experience and pay 50000 ?', 'list all jobs using languageid0 and languageid0 in locid0 ?', 'show all titleid0 positions in locid0 with areaid0 and languageid0 ?', 'show me jobs in locid0 using platformid0 that do not require a degid0 ?', 'what jobs in locid0 only require a degid0 and no experience ?', 'what jobs have a recruiter named recruiterid0 ?', 'what titleid0 jobs are available from companyid0 ?', 'what jobs using languageid0 and languageid0 are available in locid0 and pay 50000 a year ?', 'are there any jobs in the us with the title titleid0 ?', 'list the positions that require a knowledge of companyid0 applicationid0 ?', 'show me positions in areaid0 programming ?', 'give some jobs in locid0 on a platformid0 system ?', 'show me jobs using languageid0 that require a degid0 and desire a degid0 ?', 'what jobs in locid0 require year0 years of experience but desire year0 years of experience ?', 'what jobs at companyid0 require a degid0 ?', 'what jobs in locid0 require no experience ?', 'what jobs are there with a salary of 40000 ?', 'what languageid0 jobs are in locid0 ?', 'what are the languageid0 jobs in locid0 requiring a degid0 ?', 'what jobs are there in locid0 that use languageid0 and require no experience ?', 'show me the jobs in locid0 that desire year0 years of experience and use languageid0 ?', 'show me jobs requiring no experience ?', 'show me jobs in locid0 ?', 'show me jobs not involving languageid0 ?', 'show me areaid0 jobs which recruiterid0 is recruiting for ?', 'what areaid0 positions require only a degid0 ?', 'show me the jobs with 30000 salary ?', 'show me the titleid0 job in locid0 ?', 'any jobs available using areaid0 ?', 'are there any jobs with a salary of 100000 ?', 'are there any titleid0 positions open ?', 'are there any applicationid0 jobs open ?', 'what companyid0 jobs do not require a degid0 ?', 'what companyid0 jobs require using languageid0 on platformid0 ?', 'what jobs require year0 years of experience require a degid0 in cs are in languageid0 and are located in locid0 ?', 'what jobs does recruiterid0 recruit for ?', 'show me locid0 jobs using languageid0 in the specialty areaid0 of areaid0 ?', 'show me jobs in locid0 using languageid0 on platformid0 requiring a degid0 ?', 'show me jobs with the platformid0 in the specialty areaid0 of areaid0 ?', 'show me areaid0 jobs in locid0 requiring an degid0 and the knowledge of languageid0 ?', 'show me jobs in computer areaid0 requiring a degid0 in art and knowledge of applicationid0 ?', 'show me the jobs at companies in locid0 that want a degree in degid0 ?', 'show the jobs offering 40000 working with languageid0 on platformid0 ?', 'show the jobs with the title titleid0 requiring year0 years of experience ?', 'show the jobs using languageid0 not requiring a degree in cs ?', 'what positions are there in areaid0 ?', 'show me all job that are available ?', 'show the jobs for degid0 in locid0 ?', 'what are the jobs that require experience with companyid0 word ?', 'are there any jobs using languageid0 with companyid0 ?', 'show me the jobs that require year0 years experience ?', 'are there any titleid0 jobs open ?', 'what jobs as an titleid0 pay 100000 ?', 'are there any jobs using languageid0 that dont require a degid0 ?', 'show me the languageid0 jobs in locid0 that desire year0 years experience ?', 'show me the jobs using languageid0 requiring a degid0 ?', 'are there any jobs in languageid0 that the salary is 50000 ?', 'show me the jobs that are not in languageid0 ?', 'show me the jobs requiring year0 years of experience at companyid0 ?', 'what jobs using languageid0 are there in locid0 ?', 'show me the areaid0 jobs in locid0 with a salary of 50000 ?', 'show me the titleid0 jobs which require a degid0 ?', 'what jobs desire year0 years of experience with languageid0 on platformid0 ?', 'show me locid0 jobs using languageid0 on platformid0 ?', 'what applicationid0 jobs are there with companyid0 in locid0 using platformid0 ?']\n"
     ]
    }
   ],
   "source": [
    "#替换year0\n",
    "for index in range(len(nl_sub_train)):\n",
    "    nl_sub_train[index] = re.sub(r' [0-9]+ year',' year0 year',nl_sub_train[index])\n",
    "    nl_sub_train[index] = re.sub(r' [0-9]+ years',' year0 years',nl_sub_train[index])\n",
    "print(nl_sub_train[0:100])\n",
    "\n",
    "for index in range(len(nl_sb_test)):\n",
    "    nl_sb_test[index] = re.sub(r' [0-9]+ year',' year0 year',nl_sb_test[index])\n",
    "    nl_sb_test[index] = re.sub(r' [0-9]+ years',' year0 years',nl_sb_test[index])\n",
    "#print(nl_sb_train[0:100])"
   ]
  },
  {
   "cell_type": "code",
   "execution_count": 906,
   "metadata": {},
   "outputs": [
    {
     "name": "stdout",
     "output_type": "stream",
     "text": [
      "['what jobs are available ?', 'tell me the jobs in locid0 ?', 'list jobs using languageid0 ?', 'what jobs are there in areaid0 ?', 'give me jobs in locid0 ?', 'what jobs are available for a platformid0 titleid0 ?', 'show me the jobs requiring year0 years of experience at companyid0 ?', 'give me the jobs using languageid0 that dont require platformid0 ?', 'list the jobs using languageid0 ?', 'give me the jobs using languageid0 ?']\n",
      "['what jobs are there for titleid0 who know languageid0 ?', 'what titleid0 jobs are there in locid0 ?', 'what jobs pay num_salary are located in locid0 and require a degree ?', 'what jobs are there for languageid0 programmers who dont know languageid0 ?', 'what jobs use languageid0 on companyid0 machines and pay num_salary ?', 'what jobs use languageid0 on platformid0 and pay num_salary ?', 'what jobs desire a degree but dont use languageid0 ?', 'show me the jobs using languageid0 that require a degid0 but desire a degid0 ?', 'what jobs on platformid0 are for programming languageid0 and desire year0 years experience ?', 'show me jobs for companyid0 requiring experience on platformid0 ?']\n"
     ]
    }
   ],
   "source": [
    "#替换num_salary\n",
    "for index in range(len(nl_sb_test)):\n",
    "    nl_sb_test[index] = re.sub(r' [0-9]{5} ',' num_salary ',nl_sb_test[index])\n",
    "    nl_sb_test[index] = re.sub(r' [0-9]{6} ',' num_salary ',nl_sb_test[index])\n",
    "print(nl_sb_test[0:10])\n",
    "\n",
    "#替换num_salary\n",
    "for index in range(len(nl_sub_train)):\n",
    "    nl_sub_train[index] = re.sub(r' [0-9]{5} ',' num_salary ',nl_sub_train[index])\n",
    "    nl_sub_train[index] = re.sub(r' [0-9]{6} ',' num_salary ',nl_sub_train[index])\n",
    "print(nl_sub_train[0:10])"
   ]
  },
  {
   "cell_type": "code",
   "execution_count": 907,
   "metadata": {},
   "outputs": [
    {
     "name": "stdout",
     "output_type": "stream",
     "text": [
      "['what jobs are available ?', 'tell me the jobs in locid0 ?', 'list jobs using languageid0 ?', 'what jobs are there in areaid0 ?', 'give me jobs in locid0 ?', 'what jobs are available for a platformid0 titleid0 ?', 'show me the jobs requiring year0 years of experience at companyid0 ?', 'give me the jobs using languageid0 that dont require platformid0 ?', 'list the jobs using languageid0 ?', 'give me the jobs using languageid0 ?']\n",
      "['what jobs are there for titleid0 who know languageid0 ?', 'what titleid0 jobs are there in locid0 ?', 'what jobs pay num_salary are located in locid0 and require a degree ?', 'what jobs are there for languageid0 programmers who dont know languageid0 ?', 'what jobs use languageid0 on companyid0 machines and pay num_salary ?', 'what jobs use languageid0 on platformid0 and pay num_salary ?', 'what jobs desire a degree but dont use languageid0 ?', 'show me the jobs using languageid0 that require a degid0 but desire a degid0 ?', 'what jobs on platformid0 are for programming languageid0 and desire year0 years experience ?', 'show me jobs for companyid0 requiring experience on platformid0 ?']\n"
     ]
    }
   ],
   "source": [
    "#去除所有''号\n",
    "for index in range(len(nl_sb_test)):\n",
    "    nl_sb_test[index] = nl_sb_test[index].replace('\\'','')\n",
    "print(nl_sb_test[0:10])\n",
    "\n",
    "#去除所有''号\n",
    "for index in range(len(nl_sub_train)):\n",
    "    nl_sub_train[index] = nl_sub_train[index].replace('\\'','')\n",
    "print(nl_sub_train[0:10])\n"
   ]
  },
  {
   "cell_type": "code",
   "execution_count": 908,
   "metadata": {},
   "outputs": [],
   "source": [
    "# output of the difference library\n",
    "with open(output_train_data, 'w',encoding='utf-8') as file:\n",
    "    for i in nl_sub_train:\n",
    "        file.write( i+ '\\n')"
   ]
  },
  {
   "cell_type": "code",
   "execution_count": 909,
   "metadata": {},
   "outputs": [],
   "source": [
    "# output of the difference library\n",
    "with open(output_test_data, 'w',encoding='utf-8') as file:\n",
    "    for i in nl_sb_test:\n",
    "        file.write( i+ '\\n')"
   ]
  },
  {
   "cell_type": "code",
   "execution_count": null,
   "metadata": {},
   "outputs": [],
   "source": []
  }
 ],
 "metadata": {
  "kernelspec": {
   "display_name": "Python 3",
   "language": "python",
   "name": "python3"
  },
  "language_info": {
   "codemirror_mode": {
    "name": "ipython",
    "version": 3
   },
   "file_extension": ".py",
   "mimetype": "text/x-python",
   "name": "python",
   "nbconvert_exporter": "python",
   "pygments_lexer": "ipython3",
   "version": "3.7.1"
  }
 },
 "nbformat": 4,
 "nbformat_minor": 2
}
