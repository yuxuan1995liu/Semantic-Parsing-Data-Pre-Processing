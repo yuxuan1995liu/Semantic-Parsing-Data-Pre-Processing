{
 "cells": [
  {
   "cell_type": "code",
   "execution_count": 16,
   "metadata": {},
   "outputs": [],
   "source": [
    "# create the dataset jobs640"
   ]
  },
  {
   "cell_type": "code",
   "execution_count": 23,
   "metadata": {},
   "outputs": [],
   "source": [
    "# define path\n",
    "testdata_path = './jobqueries640_test.txt'\n",
    "testdata_path2 = './jobqueries640_test_remaining.txt'\n",
    "traindata_path = './jobqueries640_train.txt'\n",
    "traindata_path2 = './jobqueries640_train_remaining.txt'\n",
    "test_data_output = './jobs_final_data/jobs640_test.txt'\n",
    "train_data_output = './jobs_final_data/jobs640_train.txt'"
   ]
  },
  {
   "cell_type": "code",
   "execution_count": 18,
   "metadata": {},
   "outputs": [],
   "source": [
    "# imoort lib\n",
    "import os\n",
    "import random\n",
    "import re"
   ]
  },
  {
   "cell_type": "code",
   "execution_count": 19,
   "metadata": {},
   "outputs": [],
   "source": [
    "#input test data\n",
    "with open(testdata_path,encoding='utf8') as f:\n",
    "    test_data_partI = f.read().splitlines()\n",
    "with open(testdata_path2,encoding='utf8') as f:\n",
    "    test_data_partII = f.read().splitlines()\n",
    "#input train data\n",
    "with open(traindata_path,encoding='utf8') as f:\n",
    "    train_data_partI = f.read().splitlines()\n",
    "with open(traindata_path2,encoding='utf8') as f:\n",
    "    train_data_partII = f.read().splitlines()"
   ]
  },
  {
   "cell_type": "code",
   "execution_count": 20,
   "metadata": {},
   "outputs": [
    {
     "name": "stdout",
     "output_type": "stream",
     "text": [
      "640\n"
     ]
    }
   ],
   "source": [
    "test_data = test_data_partI + test_data_partII\n",
    "train_data = train_data_partI + train_data_partII\n",
    "print(len(test_data)+len(train_data))"
   ]
  },
  {
   "cell_type": "code",
   "execution_count": 24,
   "metadata": {},
   "outputs": [],
   "source": [
    "# output of raw data\n",
    "with open(test_data_output, 'w',encoding = 'utf-8') as file:\n",
    "    for i in test_data:\n",
    "        file.write( i+ '\\n')\n",
    "with open(train_data_output, 'w',encoding = 'utf-8') as file:\n",
    "    for i in train_data:\n",
    "        file.write( i+ '\\n')"
   ]
  },
  {
   "cell_type": "code",
   "execution_count": null,
   "metadata": {},
   "outputs": [],
   "source": []
  }
 ],
 "metadata": {
  "kernelspec": {
   "display_name": "Python 3",
   "language": "python",
   "name": "python3"
  },
  "language_info": {
   "codemirror_mode": {
    "name": "ipython",
    "version": 3
   },
   "file_extension": ".py",
   "mimetype": "text/x-python",
   "name": "python",
   "nbconvert_exporter": "python",
   "pygments_lexer": "ipython3",
   "version": "3.7.1"
  }
 },
 "nbformat": 4,
 "nbformat_minor": 2
}
