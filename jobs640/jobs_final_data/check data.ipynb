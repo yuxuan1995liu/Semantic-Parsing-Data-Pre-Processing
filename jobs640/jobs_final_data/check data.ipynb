{
 "cells": [
  {
   "cell_type": "code",
   "execution_count": 56,
   "metadata": {},
   "outputs": [],
   "source": [
    "#check the validation of data"
   ]
  },
  {
   "cell_type": "code",
   "execution_count": 68,
   "metadata": {},
   "outputs": [],
   "source": [
    "test_path = './final_relate_doc_test.txt'\n",
    "train_path = './final_relate_doc_train.txt'"
   ]
  },
  {
   "cell_type": "code",
   "execution_count": 69,
   "metadata": {},
   "outputs": [
    {
     "name": "stdout",
     "output_type": "stream",
     "text": [
      "\n"
     ]
    }
   ],
   "source": [
    "with open(test_path,encoding='utf8') as f:\n",
    "    check_test = f.read().splitlines()\n",
    "with open(train_path,encoding='utf8') as f:\n",
    "    check_train = f.read().splitlines()\n",
    "print()"
   ]
  },
  {
   "cell_type": "code",
   "execution_count": 70,
   "metadata": {},
   "outputs": [
    {
     "name": "stdout",
     "output_type": "stream",
     "text": [
      "['what jobs are available', 'list jobs using languageid0', 'list jobs on platformid0', 'list jobs using languageid0', 'list jobs in locid0', 'list jobs requiring degid0', 'what is out there', 'list jobs on platformid0', 'list jobs using languageid0', 'what jobs pay num_salary', 'give me jobs in locid0', 'list the jobs using languageid0', 'does anyone still use platformid0', 'tell me jobs requiring degid0', 'show the jobs using languageid0', 'give me jobs in locid0', 'what jobs do you have', 'tell me jobs on platformid0', 'tell me jobs in locid0', 'tell me jobs requiring degid0']\n",
      "['job ( ANS )', 'job ( ANS ) , language ( ANS , languageid0 )', 'job ( ANS ) , platform ( ANS , platformid0 )', 'job ( ANS ) , language ( ANS , languageid0 )', 'job ( ANS ) , loc ( ANS , locid0 )', 'job ( ANS ) , req_deg ( ANS , degid0 )', 'job ( ANS )', 'job ( ANS ) , platform ( ANS , platformid0 )', 'job ( ANS ) , language ( ANS , languageid0 )', 'job ( ANS ) , salary_greater_than ( ANS , num_salary , year )']\n"
     ]
    }
   ],
   "source": [
    "list_nl = []\n",
    "for strings in check_test:\n",
    "    list_nl.append(strings.split('\\t')[0])\n",
    "print(list_nl[0:20])\n",
    "\n",
    "formula_nl = []\n",
    "for strings in check_test:\n",
    "    formula_nl.append(strings.split('\\t')[1])\n",
    "print(formula_nl[:10])"
   ]
  },
  {
   "cell_type": "code",
   "execution_count": 71,
   "metadata": {},
   "outputs": [
    {
     "name": "stdout",
     "output_type": "stream",
     "text": [
      "['all', 'everything', 'whats all there', 'all of it', 'show me everything', 'list jobs using languageid0', 'show jobs using languageid0', 'list jobs on platformid0', 'list jobs requiring degid0', 'show jobs requiring degid0', 'show jobs in locid0', 'show jobs in languageid0', 'all the jobs please', 'list jobs in locid0', 'list jobs in languageid0', 'show jobs requiring degid0', 'show jobs using languageid0', 'list jobs in locid0', 'list jobs requiring degid0', 'list jobs using languageid0']\n",
      "['job ( ANS )', 'job ( ANS )', 'job ( ANS )', 'job ( ANS )', 'job ( ANS )', 'job ( ANS ) , language ( ANS , languageid0 )', 'job ( ANS ) , language ( ANS , languageid0 )', 'job ( ANS ) , platform ( ANS , platformid0 )', 'job ( ANS ) , req_deg ( ANS , degid0 )', 'job ( ANS ) , req_deg ( ANS , degid0 )']\n"
     ]
    }
   ],
   "source": [
    "list_nl_train = []\n",
    "for strings in check_train:\n",
    "    list_nl_train.append(strings.split('\\t')[0])\n",
    "print(list_nl_train[0:20])\n",
    "\n",
    "formula_nl_train = []\n",
    "for strings in check_train:\n",
    "    formula_nl_train.append(strings.split('\\t')[1])\n",
    "print(formula_nl_train[:10])"
   ]
  },
  {
   "cell_type": "code",
   "execution_count": 72,
   "metadata": {},
   "outputs": [
    {
     "name": "stdout",
     "output_type": "stream",
     "text": [
      "140\n"
     ]
    }
   ],
   "source": [
    "import re\n",
    "token_list_nl = []\n",
    "for strings in list_nl:\n",
    "    a=re.findall(r'[a-z]+id[0-9]',strings)\n",
    "    token_list_nl.append(a)\n",
    "#print(token_list_nl)\n",
    "\n",
    "\n",
    "token_list_fl = []\n",
    "for strings in formula_nl:\n",
    "    b=re.findall(r'[a-z]+id[0-9]',strings)\n",
    "    token_list_fl.append(b)\n",
    "#print(token_list_fl)\n",
    "count =0\n",
    "for index in range(len(token_list_nl)):\n",
    "    if set(token_list_nl[index]) == set(token_list_fl[index]):\n",
    "        count +=1\n",
    "    else:\n",
    "        print(index)\n",
    "        print(check_test[index])\n",
    "print(count)"
   ]
  },
  {
   "cell_type": "code",
   "execution_count": 79,
   "metadata": {},
   "outputs": [
    {
     "name": "stdout",
     "output_type": "stream",
     "text": [
      "140\n"
     ]
    }
   ],
   "source": [
    "import re\n",
    "num_salary = []\n",
    "for strings in list_nl:\n",
    "    a=re.findall(r'num_salary',strings)\n",
    "    num_salary.append(a)\n",
    "#print(token_list_nl)\n",
    "\n",
    "\n",
    "num_salary_fl = []\n",
    "for strings in formula_nl:\n",
    "    b=re.findall(r'num_salary',strings)\n",
    "    num_salary_fl.append(b)\n",
    "#print(token_list_fl)\n",
    "count =0\n",
    "for index in range(len(num_salary)):\n",
    "    if set(num_salary[index]) == set(num_salary_fl[index]):\n",
    "        count +=1\n",
    "    else:\n",
    "        print(index)\n",
    "        print(check_test[index])\n",
    "print(count)"
   ]
  },
  {
   "cell_type": "code",
   "execution_count": 80,
   "metadata": {},
   "outputs": [
    {
     "name": "stdout",
     "output_type": "stream",
     "text": [
      "500\n"
     ]
    }
   ],
   "source": [
    "import re\n",
    "num_salary = []\n",
    "for strings in list_nl_train:\n",
    "    a=re.findall(r'year0',strings)\n",
    "    num_salary.append(a)\n",
    "#print(token_list_nl)\n",
    "\n",
    "\n",
    "num_salary_fl = []\n",
    "for strings in formula_nl_train:\n",
    "    b=re.findall(r'year0',strings)\n",
    "    num_salary_fl.append(b)\n",
    "#print(token_list_fl)\n",
    "count =0\n",
    "for index in range(len(num_salary)):\n",
    "    if set(num_salary[index]) == set(num_salary_fl[index]):\n",
    "        count +=1\n",
    "    else:\n",
    "        print(index)\n",
    "        print(check_train[index])\n",
    "print(count)"
   ]
  },
  {
   "cell_type": "code",
   "execution_count": 81,
   "metadata": {},
   "outputs": [
    {
     "name": "stdout",
     "output_type": "stream",
     "text": [
      "['languageid0', 'platformid0']\n",
      "['platformid0', 'languageid0']\n",
      "396\n",
      "moving to locid0 need a job with platformid0 languageid0 and companyid0\tjob ( ANS ) , loc ( ANS , locid0 ) , platform ( ANS , P ) , language ( ANS , languageid0 ) , platform ( ANS , P )\n",
      "499\n"
     ]
    }
   ],
   "source": [
    "import re\n",
    "token_list_nl_train= []\n",
    "for strings in list_nl_train:\n",
    "    a=re.findall(r'[a-z]+id[0-9]',strings)\n",
    "    token_list_nl_train.append(a)\n",
    "print(token_list_nl_train[130])\n",
    "\n",
    "\n",
    "token_list_fl_train = []\n",
    "for strings in formula_nl_train:\n",
    "    b=re.findall(r'[a-z]+id[0-9]',strings)\n",
    "    token_list_fl_train.append(b)\n",
    "print(token_list_fl_train[130])\n",
    "count =0\n",
    "for index in range(len(token_list_nl_train)):\n",
    "    if set(token_list_nl_train[index]) == set(token_list_fl_train[index]):\n",
    "        count +=1\n",
    "    else:\n",
    "        print(index)\n",
    "        print(check_train[index])\n",
    "print(count)\n"
   ]
  },
  {
   "cell_type": "code",
   "execution_count": null,
   "metadata": {},
   "outputs": [],
   "source": []
  }
 ],
 "metadata": {
  "kernelspec": {
   "display_name": "Python 3",
   "language": "python",
   "name": "python3"
  },
  "language_info": {
   "codemirror_mode": {
    "name": "ipython",
    "version": 3
   },
   "file_extension": ".py",
   "mimetype": "text/x-python",
   "name": "python",
   "nbconvert_exporter": "python",
   "pygments_lexer": "ipython3",
   "version": "3.7.1"
  }
 },
 "nbformat": 4,
 "nbformat_minor": 2
}
