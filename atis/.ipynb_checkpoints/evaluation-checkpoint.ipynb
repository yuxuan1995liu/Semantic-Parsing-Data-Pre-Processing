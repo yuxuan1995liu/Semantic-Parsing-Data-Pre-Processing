{
 "cells": [
  {
   "cell_type": "code",
   "execution_count": 236,
   "metadata": {},
   "outputs": [],
   "source": [
    "mine_train = '.output_try_train.txt'\n",
    "ref_path_train = 'atis_train.tsv'"
   ]
  },
  {
   "cell_type": "code",
   "execution_count": 237,
   "metadata": {},
   "outputs": [],
   "source": [
    "with open(ref_path_train, 'r') as f:\n",
    "    ref_train = f.read().splitlines()"
   ]
  },
  {
   "cell_type": "code",
   "execution_count": 238,
   "metadata": {},
   "outputs": [],
   "source": [
    "ref_words=[]\n",
    "for sentences in ref_train:\n",
    "    ref_words.append(sentences.split('\\t')[0])\n",
    "#print(ref_words[:10])"
   ]
  },
  {
   "cell_type": "code",
   "execution_count": 239,
   "metadata": {},
   "outputs": [
    {
     "name": "stdout",
     "output_type": "stream",
     "text": [
      "['arrival', 'seventeenth', \"i've\", 'lunch', 'some', 'delta', 'times', 'various', 'straight', 'tuesdays']\n"
     ]
    }
   ],
   "source": [
    "ref_word_list = []\n",
    "for sentences in ref_words:\n",
    "    ref_word_list += sentences.split(' ')\n",
    "ref_word_list = list(set(ref_word_list))\n",
    "print(ref_word_list[:10])"
   ]
  },
  {
   "cell_type": "code",
   "execution_count": 240,
   "metadata": {},
   "outputs": [
    {
     "name": "stdout",
     "output_type": "stream",
     "text": [
      "['airports\\t( lambda $0 e ( airport $0 ) )', 'one way\\t( lambda $0 e ( oneway $0 ) )']\n"
     ]
    }
   ],
   "source": [
    "with open(mine_train, 'r') as f:\n",
    "    my_train = f.read().splitlines()\n",
    "print(my_train[:2])"
   ]
  },
  {
   "cell_type": "code",
   "execution_count": 241,
   "metadata": {},
   "outputs": [],
   "source": [
    "my_words = []\n",
    "for sentences in my_train:\n",
    "    my_words+=(sentences.split('\\t')[0]).split(' ')\n",
    "my_words = list(set(my_words))"
   ]
  },
  {
   "cell_type": "code",
   "execution_count": 242,
   "metadata": {},
   "outputs": [],
   "source": [
    "def hasNumbers(inputString):\n",
    "    return any(char.isdigit() for char in inputString)\n",
    "\n",
    "for words in my_words:\n",
    "    if hasNumbers(words):\n",
    "        pass\n",
    "    elif words not in ref_word_list:\n",
    "        print(words)"
   ]
  },
  {
   "cell_type": "code",
   "execution_count": null,
   "metadata": {},
   "outputs": [],
   "source": []
  }
 ],
 "metadata": {
  "kernelspec": {
   "display_name": "Python 3",
   "language": "python",
   "name": "python3"
  },
  "language_info": {
   "codemirror_mode": {
    "name": "ipython",
    "version": 3
   },
   "file_extension": ".py",
   "mimetype": "text/x-python",
   "name": "python",
   "nbconvert_exporter": "python",
   "pygments_lexer": "ipython3",
   "version": "3.7.1"
  }
 },
 "nbformat": 4,
 "nbformat_minor": 2
}
