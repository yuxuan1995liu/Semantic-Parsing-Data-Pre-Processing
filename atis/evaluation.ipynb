{
 "cells": [
  {
   "cell_type": "code",
   "execution_count": 284,
   "metadata": {},
   "outputs": [],
   "source": [
    "mine_train = '.output_dev_data.txt'\n",
    "ref_path_train = 'atis_dev.tsv'"
   ]
  },
  {
   "cell_type": "code",
   "execution_count": 285,
   "metadata": {},
   "outputs": [
    {
     "name": "stdout",
     "output_type": "stream",
     "text": [
      "give me the flights from salt lake city to new york city arriving before 6pm\t( _lambda $0 e ( _and ( _flight $0 ) ( _< ( _arrival_time $0 ) 1800:_ti ) ( _from $0 salt_lake_city:_ci ) ( _to $0 new_york:_ci ) ) )\n"
     ]
    }
   ],
   "source": [
    "with open(ref_path_train, 'r') as f:\n",
    "    ref_train = f.read().splitlines()\n",
    "print(ref_train[69])"
   ]
  },
  {
   "cell_type": "code",
   "execution_count": 286,
   "metadata": {},
   "outputs": [],
   "source": [
    "ref_words=[]\n",
    "for sentences in ref_train:\n",
    "    ref_words.append(sentences.split('\\t')[0])\n",
    "#print(ref_words[:10])"
   ]
  },
  {
   "cell_type": "code",
   "execution_count": 287,
   "metadata": {},
   "outputs": [
    {
     "name": "stdout",
     "output_type": "stream",
     "text": [
      "1pm\n"
     ]
    }
   ],
   "source": [
    "ref_word_list = []\n",
    "for sentences in ref_words:\n",
    "    ref_word_list += sentences.split(' ')\n",
    "ref_word_list = list(set(ref_word_list))\n",
    "print(ref_word_list[71])"
   ]
  },
  {
   "cell_type": "code",
   "execution_count": 288,
   "metadata": {},
   "outputs": [
    {
     "name": "stdout",
     "output_type": "stream",
     "text": [
      " list all flights from ci0 to ci1 \t( lambda $0 e ( and ( flight $0 ) ( from $0 ci0 ) ( to $0 ci1 ) ) )\n"
     ]
    }
   ],
   "source": [
    "with open(mine_train, 'r') as f:\n",
    "    my_train = f.read().splitlines()\n",
    "print(my_train[69])"
   ]
  },
  {
   "cell_type": "code",
   "execution_count": 289,
   "metadata": {},
   "outputs": [],
   "source": [
    "my_words = []\n",
    "for sentences in my_train:\n",
    "    my_words+=(sentences.split('\\t')[0]).split(' ')\n",
    "my_words = list(set(my_words))"
   ]
  },
  {
   "cell_type": "code",
   "execution_count": 290,
   "metadata": {},
   "outputs": [
    {
     "name": "stdout",
     "output_type": "stream",
     "text": [
      "\n"
     ]
    }
   ],
   "source": [
    "def hasNumbers(inputString):\n",
    "    return any(char.isdigit() for char in inputString)\n",
    "\n",
    "for words in my_words:\n",
    "    if hasNumbers(words):\n",
    "        pass\n",
    "    elif words not in ref_word_list:\n",
    "        print(words)"
   ]
  },
  {
   "cell_type": "code",
   "execution_count": null,
   "metadata": {},
   "outputs": [],
   "source": []
  }
 ],
 "metadata": {
  "kernelspec": {
   "display_name": "Python 3",
   "language": "python",
   "name": "python3"
  },
  "language_info": {
   "codemirror_mode": {
    "name": "ipython",
    "version": 3
   },
   "file_extension": ".py",
   "mimetype": "text/x-python",
   "name": "python",
   "nbconvert_exporter": "python",
   "pygments_lexer": "ipython3",
   "version": "3.7.1"
  }
 },
 "nbformat": 4,
 "nbformat_minor": 2
}
